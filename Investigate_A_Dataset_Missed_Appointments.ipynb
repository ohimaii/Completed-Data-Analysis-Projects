{
 "cells": [
  {
   "cell_type": "markdown",
   "metadata": {},
   "source": [
    "\n",
    "# Project: Investigating Medical Appointments Scheduling in Brazil\n",
    "\n",
    "## Table of Contents\n",
    "<ul>\n",
    "<li><a href=\"#intro\">Introduction</a></li>\n",
    "<li><a href=\"#wrangling\">Data Wrangling</a></li>\n",
    "<li><a href=\"#eda\">Exploratory Data Analysis</a></li>\n",
    "<li><a href=\"#conclusions\">Conclusions</a></li>\n",
    "</ul>"
   ]
  },
  {
   "cell_type": "markdown",
   "metadata": {},
   "source": [
    "<a id='intro'></a>\n",
    "## Introduction\n",
    "\n",
    "The purpose of this project is to investigate a dataset containing records of scheduled medical appointments in Brazil. The goal of the project is to understand how certain factors could possibly affect whether or not people show up for scheduled appointments. We focus on some variables of interest to help us achieve our set goal. \n",
    "\n",
    "At the end of this project, we want to be able to answer the following questions:\n",
    "\n",
    "- How does gender affect number of appointments missed?\n",
    "- Do patients who receive the Bolsa Família Scholarship tend to show up to more appointments than patients who do not?\n",
    "- How do Hypertension patients tend to respond to medical appointments?\n",
    "- Do patients who have one or more SMS messages sent to them tend to show up to more or less appointments than patients who do not?\n",
    "- How does Scholarship affect male and female missed appointment rates?\n",
    "- How do SMS reminders affect the missed appointment rates of Hypertension patients?\n",
    "\n",
    "To begin the project, we start by importing the relevant Python modules that will be used."
   ]
  },
  {
   "cell_type": "code",
   "execution_count": 241,
   "metadata": {},
   "outputs": [],
   "source": [
    "# Import relevant packages\n",
    "import pandas as pd\n",
    "import numpy as np\n",
    "import matplotlib.pyplot as plt\n",
    "%matplotlib inline\n",
    "import seaborn as sns"
   ]
  },
  {
   "cell_type": "markdown",
   "metadata": {},
   "source": [
    "After successfully importing all necessary packages for this project, we then move on to the data wrangling section"
   ]
  },
  {
   "cell_type": "markdown",
   "metadata": {},
   "source": [
    "<a id='wrangling'></a>\n",
    "## Data Wrangling\n",
    "\n",
    "In this section, we will load the data to be investigated, check for cleanliness and clean the dataset, ensuring it is ready for analysis.\n",
    "\n",
    "### Load the Data\n",
    "\n",
    "We begin by loading the dataset to be investigated. This dataset can be downloaded [here](https://www.kaggle.com/joniarroba/noshowappointments). We will also take a quick glance at the first 5 columns to get a feel for what the data looks like. The code block to do these is found in the cell below."
   ]
  },
  {
   "cell_type": "code",
   "execution_count": 315,
   "metadata": {
    "scrolled": false
   },
   "outputs": [
    {
     "data": {
      "text/html": [
       "<div>\n",
       "<style scoped>\n",
       "    .dataframe tbody tr th:only-of-type {\n",
       "        vertical-align: middle;\n",
       "    }\n",
       "\n",
       "    .dataframe tbody tr th {\n",
       "        vertical-align: top;\n",
       "    }\n",
       "\n",
       "    .dataframe thead th {\n",
       "        text-align: right;\n",
       "    }\n",
       "</style>\n",
       "<table border=\"1\" class=\"dataframe\">\n",
       "  <thead>\n",
       "    <tr style=\"text-align: right;\">\n",
       "      <th></th>\n",
       "      <th>PatientId</th>\n",
       "      <th>AppointmentID</th>\n",
       "      <th>Gender</th>\n",
       "      <th>ScheduledDay</th>\n",
       "      <th>AppointmentDay</th>\n",
       "      <th>Age</th>\n",
       "      <th>Neighbourhood</th>\n",
       "      <th>Scholarship</th>\n",
       "      <th>Hipertension</th>\n",
       "      <th>Diabetes</th>\n",
       "      <th>Alcoholism</th>\n",
       "      <th>Handcap</th>\n",
       "      <th>SMS_received</th>\n",
       "      <th>No-show</th>\n",
       "    </tr>\n",
       "  </thead>\n",
       "  <tbody>\n",
       "    <tr>\n",
       "      <th>0</th>\n",
       "      <td>2.987250e+13</td>\n",
       "      <td>5642903</td>\n",
       "      <td>F</td>\n",
       "      <td>2016-04-29T18:38:08Z</td>\n",
       "      <td>2016-04-29T00:00:00Z</td>\n",
       "      <td>62</td>\n",
       "      <td>JARDIM DA PENHA</td>\n",
       "      <td>0</td>\n",
       "      <td>1</td>\n",
       "      <td>0</td>\n",
       "      <td>0</td>\n",
       "      <td>0</td>\n",
       "      <td>0</td>\n",
       "      <td>No</td>\n",
       "    </tr>\n",
       "    <tr>\n",
       "      <th>1</th>\n",
       "      <td>5.589978e+14</td>\n",
       "      <td>5642503</td>\n",
       "      <td>M</td>\n",
       "      <td>2016-04-29T16:08:27Z</td>\n",
       "      <td>2016-04-29T00:00:00Z</td>\n",
       "      <td>56</td>\n",
       "      <td>JARDIM DA PENHA</td>\n",
       "      <td>0</td>\n",
       "      <td>0</td>\n",
       "      <td>0</td>\n",
       "      <td>0</td>\n",
       "      <td>0</td>\n",
       "      <td>0</td>\n",
       "      <td>No</td>\n",
       "    </tr>\n",
       "    <tr>\n",
       "      <th>2</th>\n",
       "      <td>4.262962e+12</td>\n",
       "      <td>5642549</td>\n",
       "      <td>F</td>\n",
       "      <td>2016-04-29T16:19:04Z</td>\n",
       "      <td>2016-04-29T00:00:00Z</td>\n",
       "      <td>62</td>\n",
       "      <td>MATA DA PRAIA</td>\n",
       "      <td>0</td>\n",
       "      <td>0</td>\n",
       "      <td>0</td>\n",
       "      <td>0</td>\n",
       "      <td>0</td>\n",
       "      <td>0</td>\n",
       "      <td>No</td>\n",
       "    </tr>\n",
       "    <tr>\n",
       "      <th>3</th>\n",
       "      <td>8.679512e+11</td>\n",
       "      <td>5642828</td>\n",
       "      <td>F</td>\n",
       "      <td>2016-04-29T17:29:31Z</td>\n",
       "      <td>2016-04-29T00:00:00Z</td>\n",
       "      <td>8</td>\n",
       "      <td>PONTAL DE CAMBURI</td>\n",
       "      <td>0</td>\n",
       "      <td>0</td>\n",
       "      <td>0</td>\n",
       "      <td>0</td>\n",
       "      <td>0</td>\n",
       "      <td>0</td>\n",
       "      <td>No</td>\n",
       "    </tr>\n",
       "    <tr>\n",
       "      <th>4</th>\n",
       "      <td>8.841186e+12</td>\n",
       "      <td>5642494</td>\n",
       "      <td>F</td>\n",
       "      <td>2016-04-29T16:07:23Z</td>\n",
       "      <td>2016-04-29T00:00:00Z</td>\n",
       "      <td>56</td>\n",
       "      <td>JARDIM DA PENHA</td>\n",
       "      <td>0</td>\n",
       "      <td>1</td>\n",
       "      <td>1</td>\n",
       "      <td>0</td>\n",
       "      <td>0</td>\n",
       "      <td>0</td>\n",
       "      <td>No</td>\n",
       "    </tr>\n",
       "  </tbody>\n",
       "</table>\n",
       "</div>"
      ],
      "text/plain": [
       "      PatientId  AppointmentID Gender          ScheduledDay  \\\n",
       "0  2.987250e+13        5642903      F  2016-04-29T18:38:08Z   \n",
       "1  5.589978e+14        5642503      M  2016-04-29T16:08:27Z   \n",
       "2  4.262962e+12        5642549      F  2016-04-29T16:19:04Z   \n",
       "3  8.679512e+11        5642828      F  2016-04-29T17:29:31Z   \n",
       "4  8.841186e+12        5642494      F  2016-04-29T16:07:23Z   \n",
       "\n",
       "         AppointmentDay  Age      Neighbourhood  Scholarship  Hipertension  \\\n",
       "0  2016-04-29T00:00:00Z   62    JARDIM DA PENHA            0             1   \n",
       "1  2016-04-29T00:00:00Z   56    JARDIM DA PENHA            0             0   \n",
       "2  2016-04-29T00:00:00Z   62      MATA DA PRAIA            0             0   \n",
       "3  2016-04-29T00:00:00Z    8  PONTAL DE CAMBURI            0             0   \n",
       "4  2016-04-29T00:00:00Z   56    JARDIM DA PENHA            0             1   \n",
       "\n",
       "   Diabetes  Alcoholism  Handcap  SMS_received No-show  \n",
       "0         0           0        0             0      No  \n",
       "1         0           0        0             0      No  \n",
       "2         0           0        0             0      No  \n",
       "3         0           0        0             0      No  \n",
       "4         1           0        0             0      No  "
      ]
     },
     "execution_count": 315,
     "metadata": {},
     "output_type": "execute_result"
    }
   ],
   "source": [
    "# Load data and view the first 5 columns\n",
    "df = pd.read_csv('appointments.csv')\n",
    "df.head()"
   ]
  },
  {
   "cell_type": "markdown",
   "metadata": {},
   "source": [
    "We notice something interesting in the PatientId column. The records in this column look a bit odd. They seem to be in the wrong format. \n",
    "\n",
    "We also see that the No-show column is currently categorical. This is not ideal in this case. \n",
    "\n",
    "These anomalies will be addressed in the next two sub-sections."
   ]
  },
  {
   "cell_type": "markdown",
   "metadata": {},
   "source": [
    "#### Column Descriptions\n",
    "\n",
    "01 - PatientId\n",
    "Identification of a patient\n",
    "\n",
    "02 - AppointmentID\n",
    "Identification of each appointment\n",
    "\n",
    "03 - Gender\n",
    "Male or Female . Female is the greater proportion, woman takes way more care of they health in comparison to man.\n",
    "\n",
    "04 - DataMarcacaoConsulta\n",
    "The day of the actuall appointment, when they have to visit the doctor.\n",
    "\n",
    "05 - DataAgendamento\n",
    "The day someone called or registered the appointment, this is before appointment of course.\n",
    "\n",
    "06 - Age\n",
    "How old is the patient.\n",
    "\n",
    "07 - Neighbourhood\n",
    "Where the appointment takes place.\n",
    "\n",
    "08 - Scholarship\n",
    "True of False . Observation, this is a broad topic, consider reading this article https://en.wikipedia.org/wiki/Bolsa_Fam%C3%ADlia\n",
    "\n",
    "09 - Hipertension\n",
    "True or False\n",
    "\n",
    "10 - Diabetes\n",
    "True or False\n",
    "\n",
    "11 - Alcoholism\n",
    "True or False\n",
    "\n",
    "12 - Handcap\n",
    "True or False\n",
    "\n",
    "13 - SMS_received\n",
    "1 or more messages sent to the patient.\n",
    "\n",
    "14 - No-show\n",
    "True or False.\n",
    "\n",
    "(Source: Kaggle)"
   ]
  },
  {
   "cell_type": "markdown",
   "metadata": {},
   "source": [
    "### Check for cleanliness\n",
    "\n",
    "There are three common factors (amongst others) to look into when determining the cleanliness of a dataset. These are:\n",
    "\n",
    "- Duplication in rows\n",
    "- Missing values and the columns that have them\n",
    "- Incorrect Data types in columns\n",
    "\n",
    "First, we identify these major issues, then we check for any possible minor issues, before we finally clean the data itself. "
   ]
  },
  {
   "cell_type": "code",
   "execution_count": 316,
   "metadata": {},
   "outputs": [
    {
     "name": "stdout",
     "output_type": "stream",
     "text": [
      "DUPLICATE VALUES IN EACH COLUMN\n",
      " \n",
      "PatientId: 48228\n",
      "AppointmentID: 0\n",
      "Gender: 110525\n",
      "ScheduledDay: 6978\n",
      "AppointmentDay: 110500\n",
      "Age: 110423\n",
      "Neighbourhood: 110446\n",
      "Scholarship: 110525\n",
      "Hipertension: 110525\n",
      "Diabetes: 110525\n",
      "Alcoholism: 110525\n",
      "Handcap: 110522\n",
      "SMS_received: 110525\n",
      "No-show: 110525\n",
      " \n",
      "NUMBER OF ROW LEVEL DUPLICATES:  0\n"
     ]
    }
   ],
   "source": [
    "# Checking for duplicates\n",
    "print('DUPLICATE VALUES IN EACH COLUMN')\n",
    "print(' ')\n",
    "for i,v in enumerate(df.columns):\n",
    "    print(v+':', sum(df[v].duplicated()))\n",
    "    \n",
    "print(' ')\n",
    "print('NUMBER OF ROW LEVEL DUPLICATES: ', sum(df.duplicated()))"
   ]
  },
  {
   "cell_type": "markdown",
   "metadata": {},
   "source": [
    "The only duplicate values that might need adjusting would be values in the PatientId column. This will be addressed later."
   ]
  },
  {
   "cell_type": "code",
   "execution_count": 317,
   "metadata": {},
   "outputs": [
    {
     "name": "stdout",
     "output_type": "stream",
     "text": [
      "0 PatientId\n",
      "1 AppointmentID\n",
      "2 Gender\n",
      "3 ScheduledDay\n",
      "4 AppointmentDay\n",
      "5 Age\n",
      "6 Neighbourhood\n",
      "7 Scholarship\n",
      "8 Hipertension\n",
      "9 Diabetes\n",
      "10 Alcoholism\n",
      "11 Handcap\n",
      "12 SMS_received\n",
      "13 No-show\n"
     ]
    }
   ],
   "source": [
    "# Checking for null/missing values in each column. There are no missing values\n",
    "for i, v in enumerate(df.columns):\n",
    "    if sum(df[v].isnull()) == 0:\n",
    "        print(i,v)"
   ]
  },
  {
   "cell_type": "markdown",
   "metadata": {},
   "source": [
    "There were no null/missing values found."
   ]
  },
  {
   "cell_type": "code",
   "execution_count": 318,
   "metadata": {
    "scrolled": false
   },
   "outputs": [
    {
     "name": "stdout",
     "output_type": "stream",
     "text": [
      "<class 'pandas.core.frame.DataFrame'>\n",
      "RangeIndex: 110527 entries, 0 to 110526\n",
      "Data columns (total 14 columns):\n",
      " #   Column          Non-Null Count   Dtype  \n",
      "---  ------          --------------   -----  \n",
      " 0   PatientId       110527 non-null  float64\n",
      " 1   AppointmentID   110527 non-null  int64  \n",
      " 2   Gender          110527 non-null  object \n",
      " 3   ScheduledDay    110527 non-null  object \n",
      " 4   AppointmentDay  110527 non-null  object \n",
      " 5   Age             110527 non-null  int64  \n",
      " 6   Neighbourhood   110527 non-null  object \n",
      " 7   Scholarship     110527 non-null  int64  \n",
      " 8   Hipertension    110527 non-null  int64  \n",
      " 9   Diabetes        110527 non-null  int64  \n",
      " 10  Alcoholism      110527 non-null  int64  \n",
      " 11  Handcap         110527 non-null  int64  \n",
      " 12  SMS_received    110527 non-null  int64  \n",
      " 13  No-show         110527 non-null  object \n",
      "dtypes: float64(1), int64(8), object(5)\n",
      "memory usage: 11.8+ MB\n"
     ]
    }
   ],
   "source": [
    "# Checking for incorrect data types in each column. Some columns have incorrect data types\n",
    "df.info()"
   ]
  },
  {
   "cell_type": "markdown",
   "metadata": {},
   "source": [
    "Some columns have incorrect data types."
   ]
  },
  {
   "cell_type": "markdown",
   "metadata": {},
   "source": [
    "From our brief cleanliness check on the common cleanliness factors, we can identify the following issues:\n",
    "- PatientId (multiple appointments for the same patient): More on this in the Data Cleaning subsection\n",
    "- PatientId (data type should be object - string specifically)\n",
    "- AppointmentId (data type should be object - string specifically)\n",
    "- ScheduledDay (data type should be datetime)\n",
    "- AppointmentDay (data type should be datetime)\n",
    "- No-show (values should be 1 and 0 not 'Yes' and 'No'; data type should also be int not object)\n",
    "- Spelling errors in Hipertension column (should be spelled Hypertension) and Handcap column (should be Handicap)\n",
    "- Some scheduled dates and/or times seem to be after the Appointment dates and/or times for some patients. Logically this does not make any sense. Hence, we have to decide how to deal with those (more on this in the next subsection)."
   ]
  },
  {
   "cell_type": "markdown",
   "metadata": {},
   "source": [
    "### Data Cleaning \n",
    "In this subsection, we address the cleanliness problems found earlier in an organized manner as shown in the next few cells. Remember the four issues found: Duplicates, Incorrect data types, column spelling errors and a logical error with the dates."
   ]
  },
  {
   "cell_type": "markdown",
   "metadata": {},
   "source": [
    "Firstly, let's address incorrect data types."
   ]
  },
  {
   "cell_type": "code",
   "execution_count": 319,
   "metadata": {},
   "outputs": [
    {
     "data": {
      "text/html": [
       "<div>\n",
       "<style scoped>\n",
       "    .dataframe tbody tr th:only-of-type {\n",
       "        vertical-align: middle;\n",
       "    }\n",
       "\n",
       "    .dataframe tbody tr th {\n",
       "        vertical-align: top;\n",
       "    }\n",
       "\n",
       "    .dataframe thead th {\n",
       "        text-align: right;\n",
       "    }\n",
       "</style>\n",
       "<table border=\"1\" class=\"dataframe\">\n",
       "  <thead>\n",
       "    <tr style=\"text-align: right;\">\n",
       "      <th></th>\n",
       "      <th>PatientId</th>\n",
       "      <th>AppointmentID</th>\n",
       "      <th>Gender</th>\n",
       "      <th>ScheduledDay</th>\n",
       "      <th>AppointmentDay</th>\n",
       "      <th>Age</th>\n",
       "      <th>Neighbourhood</th>\n",
       "      <th>Scholarship</th>\n",
       "      <th>Hipertension</th>\n",
       "      <th>Diabetes</th>\n",
       "      <th>Alcoholism</th>\n",
       "      <th>Handcap</th>\n",
       "      <th>SMS_received</th>\n",
       "      <th>No-show</th>\n",
       "    </tr>\n",
       "  </thead>\n",
       "  <tbody>\n",
       "    <tr>\n",
       "      <th>0</th>\n",
       "      <td>29872499824296.0</td>\n",
       "      <td>5642903</td>\n",
       "      <td>F</td>\n",
       "      <td>2016-04-29 18:38:08+00:00</td>\n",
       "      <td>2016-04-29 00:00:00+00:00</td>\n",
       "      <td>62</td>\n",
       "      <td>JARDIM DA PENHA</td>\n",
       "      <td>0</td>\n",
       "      <td>1</td>\n",
       "      <td>0</td>\n",
       "      <td>0</td>\n",
       "      <td>0</td>\n",
       "      <td>0</td>\n",
       "      <td>0</td>\n",
       "    </tr>\n",
       "    <tr>\n",
       "      <th>1</th>\n",
       "      <td>558997776694438.0</td>\n",
       "      <td>5642503</td>\n",
       "      <td>M</td>\n",
       "      <td>2016-04-29 16:08:27+00:00</td>\n",
       "      <td>2016-04-29 00:00:00+00:00</td>\n",
       "      <td>56</td>\n",
       "      <td>JARDIM DA PENHA</td>\n",
       "      <td>0</td>\n",
       "      <td>0</td>\n",
       "      <td>0</td>\n",
       "      <td>0</td>\n",
       "      <td>0</td>\n",
       "      <td>0</td>\n",
       "      <td>0</td>\n",
       "    </tr>\n",
       "    <tr>\n",
       "      <th>2</th>\n",
       "      <td>4262962299951.0</td>\n",
       "      <td>5642549</td>\n",
       "      <td>F</td>\n",
       "      <td>2016-04-29 16:19:04+00:00</td>\n",
       "      <td>2016-04-29 00:00:00+00:00</td>\n",
       "      <td>62</td>\n",
       "      <td>MATA DA PRAIA</td>\n",
       "      <td>0</td>\n",
       "      <td>0</td>\n",
       "      <td>0</td>\n",
       "      <td>0</td>\n",
       "      <td>0</td>\n",
       "      <td>0</td>\n",
       "      <td>0</td>\n",
       "    </tr>\n",
       "    <tr>\n",
       "      <th>3</th>\n",
       "      <td>867951213174.0</td>\n",
       "      <td>5642828</td>\n",
       "      <td>F</td>\n",
       "      <td>2016-04-29 17:29:31+00:00</td>\n",
       "      <td>2016-04-29 00:00:00+00:00</td>\n",
       "      <td>8</td>\n",
       "      <td>PONTAL DE CAMBURI</td>\n",
       "      <td>0</td>\n",
       "      <td>0</td>\n",
       "      <td>0</td>\n",
       "      <td>0</td>\n",
       "      <td>0</td>\n",
       "      <td>0</td>\n",
       "      <td>0</td>\n",
       "    </tr>\n",
       "    <tr>\n",
       "      <th>4</th>\n",
       "      <td>8841186448183.0</td>\n",
       "      <td>5642494</td>\n",
       "      <td>F</td>\n",
       "      <td>2016-04-29 16:07:23+00:00</td>\n",
       "      <td>2016-04-29 00:00:00+00:00</td>\n",
       "      <td>56</td>\n",
       "      <td>JARDIM DA PENHA</td>\n",
       "      <td>0</td>\n",
       "      <td>1</td>\n",
       "      <td>1</td>\n",
       "      <td>0</td>\n",
       "      <td>0</td>\n",
       "      <td>0</td>\n",
       "      <td>0</td>\n",
       "    </tr>\n",
       "    <tr>\n",
       "      <th>5</th>\n",
       "      <td>95985133231274.0</td>\n",
       "      <td>5626772</td>\n",
       "      <td>F</td>\n",
       "      <td>2016-04-27 08:36:51+00:00</td>\n",
       "      <td>2016-04-29 00:00:00+00:00</td>\n",
       "      <td>76</td>\n",
       "      <td>REPÚBLICA</td>\n",
       "      <td>0</td>\n",
       "      <td>1</td>\n",
       "      <td>0</td>\n",
       "      <td>0</td>\n",
       "      <td>0</td>\n",
       "      <td>0</td>\n",
       "      <td>0</td>\n",
       "    </tr>\n",
       "    <tr>\n",
       "      <th>6</th>\n",
       "      <td>733688164476661.0</td>\n",
       "      <td>5630279</td>\n",
       "      <td>F</td>\n",
       "      <td>2016-04-27 15:05:12+00:00</td>\n",
       "      <td>2016-04-29 00:00:00+00:00</td>\n",
       "      <td>23</td>\n",
       "      <td>GOIABEIRAS</td>\n",
       "      <td>0</td>\n",
       "      <td>0</td>\n",
       "      <td>0</td>\n",
       "      <td>0</td>\n",
       "      <td>0</td>\n",
       "      <td>0</td>\n",
       "      <td>1</td>\n",
       "    </tr>\n",
       "    <tr>\n",
       "      <th>7</th>\n",
       "      <td>3449833394123.0</td>\n",
       "      <td>5630575</td>\n",
       "      <td>F</td>\n",
       "      <td>2016-04-27 15:39:58+00:00</td>\n",
       "      <td>2016-04-29 00:00:00+00:00</td>\n",
       "      <td>39</td>\n",
       "      <td>GOIABEIRAS</td>\n",
       "      <td>0</td>\n",
       "      <td>0</td>\n",
       "      <td>0</td>\n",
       "      <td>0</td>\n",
       "      <td>0</td>\n",
       "      <td>0</td>\n",
       "      <td>1</td>\n",
       "    </tr>\n",
       "    <tr>\n",
       "      <th>8</th>\n",
       "      <td>56394729949972.0</td>\n",
       "      <td>5638447</td>\n",
       "      <td>F</td>\n",
       "      <td>2016-04-29 08:02:16+00:00</td>\n",
       "      <td>2016-04-29 00:00:00+00:00</td>\n",
       "      <td>21</td>\n",
       "      <td>ANDORINHAS</td>\n",
       "      <td>0</td>\n",
       "      <td>0</td>\n",
       "      <td>0</td>\n",
       "      <td>0</td>\n",
       "      <td>0</td>\n",
       "      <td>0</td>\n",
       "      <td>0</td>\n",
       "    </tr>\n",
       "    <tr>\n",
       "      <th>9</th>\n",
       "      <td>78124564369297.0</td>\n",
       "      <td>5629123</td>\n",
       "      <td>F</td>\n",
       "      <td>2016-04-27 12:48:25+00:00</td>\n",
       "      <td>2016-04-29 00:00:00+00:00</td>\n",
       "      <td>19</td>\n",
       "      <td>CONQUISTA</td>\n",
       "      <td>0</td>\n",
       "      <td>0</td>\n",
       "      <td>0</td>\n",
       "      <td>0</td>\n",
       "      <td>0</td>\n",
       "      <td>0</td>\n",
       "      <td>0</td>\n",
       "    </tr>\n",
       "  </tbody>\n",
       "</table>\n",
       "</div>"
      ],
      "text/plain": [
       "           PatientId AppointmentID Gender              ScheduledDay  \\\n",
       "0   29872499824296.0       5642903      F 2016-04-29 18:38:08+00:00   \n",
       "1  558997776694438.0       5642503      M 2016-04-29 16:08:27+00:00   \n",
       "2    4262962299951.0       5642549      F 2016-04-29 16:19:04+00:00   \n",
       "3     867951213174.0       5642828      F 2016-04-29 17:29:31+00:00   \n",
       "4    8841186448183.0       5642494      F 2016-04-29 16:07:23+00:00   \n",
       "5   95985133231274.0       5626772      F 2016-04-27 08:36:51+00:00   \n",
       "6  733688164476661.0       5630279      F 2016-04-27 15:05:12+00:00   \n",
       "7    3449833394123.0       5630575      F 2016-04-27 15:39:58+00:00   \n",
       "8   56394729949972.0       5638447      F 2016-04-29 08:02:16+00:00   \n",
       "9   78124564369297.0       5629123      F 2016-04-27 12:48:25+00:00   \n",
       "\n",
       "             AppointmentDay  Age      Neighbourhood  Scholarship  \\\n",
       "0 2016-04-29 00:00:00+00:00   62    JARDIM DA PENHA            0   \n",
       "1 2016-04-29 00:00:00+00:00   56    JARDIM DA PENHA            0   \n",
       "2 2016-04-29 00:00:00+00:00   62      MATA DA PRAIA            0   \n",
       "3 2016-04-29 00:00:00+00:00    8  PONTAL DE CAMBURI            0   \n",
       "4 2016-04-29 00:00:00+00:00   56    JARDIM DA PENHA            0   \n",
       "5 2016-04-29 00:00:00+00:00   76          REPÚBLICA            0   \n",
       "6 2016-04-29 00:00:00+00:00   23         GOIABEIRAS            0   \n",
       "7 2016-04-29 00:00:00+00:00   39         GOIABEIRAS            0   \n",
       "8 2016-04-29 00:00:00+00:00   21         ANDORINHAS            0   \n",
       "9 2016-04-29 00:00:00+00:00   19          CONQUISTA            0   \n",
       "\n",
       "   Hipertension  Diabetes  Alcoholism  Handcap  SMS_received  No-show  \n",
       "0             1         0           0        0             0        0  \n",
       "1             0         0           0        0             0        0  \n",
       "2             0         0           0        0             0        0  \n",
       "3             0         0           0        0             0        0  \n",
       "4             1         1           0        0             0        0  \n",
       "5             1         0           0        0             0        0  \n",
       "6             0         0           0        0             0        1  \n",
       "7             0         0           0        0             0        1  \n",
       "8             0         0           0        0             0        0  \n",
       "9             0         0           0        0             0        0  "
      ]
     },
     "execution_count": 319,
     "metadata": {},
     "output_type": "execute_result"
    }
   ],
   "source": [
    "# Change the data types\n",
    "df['PatientId'] = df['PatientId'].astype(str)\n",
    "df['AppointmentID'] = df['AppointmentID'].astype(str)\n",
    "df['ScheduledDay'] = pd.to_datetime(df['ScheduledDay'])\n",
    "df['AppointmentDay'] = pd.to_datetime(df['AppointmentDay'])\n",
    "\n",
    "# Map No-show column from \"Yes\" and \"No\" to 1 and 0, then change the data type\n",
    "df['No-show'] = df['No-show'].map(lambda x: 1 if x == 'Yes' else 0)\n",
    "df['No-show'] = df['No-show'].astype(int)\n",
    "df.head(10)"
   ]
  },
  {
   "cell_type": "markdown",
   "metadata": {},
   "source": [
    "In the cell above, we changed the data types for the PatientId, AppointmentID, ScheduledDay, AppointmentDay and No-show columns. We also changed the values in the No-show column from categorical to numerical values, while still retaining it's meaning.\n",
    "\n",
    "Let's check the data types using df.info() to make sure we got the changes we wanted."
   ]
  },
  {
   "cell_type": "code",
   "execution_count": 320,
   "metadata": {
    "scrolled": false
   },
   "outputs": [
    {
     "name": "stdout",
     "output_type": "stream",
     "text": [
      "<class 'pandas.core.frame.DataFrame'>\n",
      "RangeIndex: 110527 entries, 0 to 110526\n",
      "Data columns (total 14 columns):\n",
      " #   Column          Non-Null Count   Dtype              \n",
      "---  ------          --------------   -----              \n",
      " 0   PatientId       110527 non-null  object             \n",
      " 1   AppointmentID   110527 non-null  object             \n",
      " 2   Gender          110527 non-null  object             \n",
      " 3   ScheduledDay    110527 non-null  datetime64[ns, UTC]\n",
      " 4   AppointmentDay  110527 non-null  datetime64[ns, UTC]\n",
      " 5   Age             110527 non-null  int64              \n",
      " 6   Neighbourhood   110527 non-null  object             \n",
      " 7   Scholarship     110527 non-null  int64              \n",
      " 8   Hipertension    110527 non-null  int64              \n",
      " 9   Diabetes        110527 non-null  int64              \n",
      " 10  Alcoholism      110527 non-null  int64              \n",
      " 11  Handcap         110527 non-null  int64              \n",
      " 12  SMS_received    110527 non-null  int64              \n",
      " 13  No-show         110527 non-null  int64              \n",
      "dtypes: datetime64[ns, UTC](2), int64(8), object(4)\n",
      "memory usage: 11.8+ MB\n"
     ]
    }
   ],
   "source": [
    "# Check datatypes\n",
    "df.info()"
   ]
  },
  {
   "cell_type": "markdown",
   "metadata": {},
   "source": [
    "Looks good to me! Next, let's address duplicates by taking a closer look at the PatientId column. We can take 2 samples where this column is duplicated an examine the other columns for each duplicated row."
   ]
  },
  {
   "cell_type": "code",
   "execution_count": 321,
   "metadata": {
    "scrolled": true
   },
   "outputs": [
    {
     "data": {
      "text/html": [
       "<div>\n",
       "<style scoped>\n",
       "    .dataframe tbody tr th:only-of-type {\n",
       "        vertical-align: middle;\n",
       "    }\n",
       "\n",
       "    .dataframe tbody tr th {\n",
       "        vertical-align: top;\n",
       "    }\n",
       "\n",
       "    .dataframe thead th {\n",
       "        text-align: right;\n",
       "    }\n",
       "</style>\n",
       "<table border=\"1\" class=\"dataframe\">\n",
       "  <thead>\n",
       "    <tr style=\"text-align: right;\">\n",
       "      <th></th>\n",
       "      <th>PatientId</th>\n",
       "      <th>AppointmentID</th>\n",
       "      <th>Gender</th>\n",
       "      <th>ScheduledDay</th>\n",
       "      <th>AppointmentDay</th>\n",
       "      <th>Age</th>\n",
       "      <th>Neighbourhood</th>\n",
       "      <th>Scholarship</th>\n",
       "      <th>Hipertension</th>\n",
       "      <th>Diabetes</th>\n",
       "      <th>Alcoholism</th>\n",
       "      <th>Handcap</th>\n",
       "      <th>SMS_received</th>\n",
       "      <th>No-show</th>\n",
       "    </tr>\n",
       "  </thead>\n",
       "  <tbody>\n",
       "    <tr>\n",
       "      <th>39827</th>\n",
       "      <td>62512452985942.0</td>\n",
       "      <td>5709233</td>\n",
       "      <td>F</td>\n",
       "      <td>2016-05-17 13:20:13+00:00</td>\n",
       "      <td>2016-05-20 00:00:00+00:00</td>\n",
       "      <td>26</td>\n",
       "      <td>PRAIA DO SUÁ</td>\n",
       "      <td>1</td>\n",
       "      <td>1</td>\n",
       "      <td>0</td>\n",
       "      <td>0</td>\n",
       "      <td>0</td>\n",
       "      <td>0</td>\n",
       "      <td>0</td>\n",
       "    </tr>\n",
       "    <tr>\n",
       "      <th>100591</th>\n",
       "      <td>78516287729263.0</td>\n",
       "      <td>5755307</td>\n",
       "      <td>F</td>\n",
       "      <td>2016-06-01 07:16:30+00:00</td>\n",
       "      <td>2016-06-08 00:00:00+00:00</td>\n",
       "      <td>14</td>\n",
       "      <td>REDENÇÃO</td>\n",
       "      <td>0</td>\n",
       "      <td>0</td>\n",
       "      <td>0</td>\n",
       "      <td>0</td>\n",
       "      <td>0</td>\n",
       "      <td>1</td>\n",
       "      <td>0</td>\n",
       "    </tr>\n",
       "  </tbody>\n",
       "</table>\n",
       "</div>"
      ],
      "text/plain": [
       "               PatientId AppointmentID Gender              ScheduledDay  \\\n",
       "39827   62512452985942.0       5709233      F 2016-05-17 13:20:13+00:00   \n",
       "100591  78516287729263.0       5755307      F 2016-06-01 07:16:30+00:00   \n",
       "\n",
       "                  AppointmentDay  Age Neighbourhood  Scholarship  \\\n",
       "39827  2016-05-20 00:00:00+00:00   26  PRAIA DO SUÁ            1   \n",
       "100591 2016-06-08 00:00:00+00:00   14      REDENÇÃO            0   \n",
       "\n",
       "        Hipertension  Diabetes  Alcoholism  Handcap  SMS_received  No-show  \n",
       "39827              1         0           0        0             0        0  \n",
       "100591             0         0           0        0             1        0  "
      ]
     },
     "execution_count": 321,
     "metadata": {},
     "output_type": "execute_result"
    }
   ],
   "source": [
    "df[df['PatientId'].duplicated()].sample(2)"
   ]
  },
  {
   "cell_type": "code",
   "execution_count": 322,
   "metadata": {},
   "outputs": [
    {
     "data": {
      "text/html": [
       "<div>\n",
       "<style scoped>\n",
       "    .dataframe tbody tr th:only-of-type {\n",
       "        vertical-align: middle;\n",
       "    }\n",
       "\n",
       "    .dataframe tbody tr th {\n",
       "        vertical-align: top;\n",
       "    }\n",
       "\n",
       "    .dataframe thead th {\n",
       "        text-align: right;\n",
       "    }\n",
       "</style>\n",
       "<table border=\"1\" class=\"dataframe\">\n",
       "  <thead>\n",
       "    <tr style=\"text-align: right;\">\n",
       "      <th></th>\n",
       "      <th>PatientId</th>\n",
       "      <th>AppointmentID</th>\n",
       "      <th>Gender</th>\n",
       "      <th>ScheduledDay</th>\n",
       "      <th>AppointmentDay</th>\n",
       "      <th>Age</th>\n",
       "      <th>Neighbourhood</th>\n",
       "      <th>Scholarship</th>\n",
       "      <th>Hipertension</th>\n",
       "      <th>Diabetes</th>\n",
       "      <th>Alcoholism</th>\n",
       "      <th>Handcap</th>\n",
       "      <th>SMS_received</th>\n",
       "      <th>No-show</th>\n",
       "    </tr>\n",
       "  </thead>\n",
       "  <tbody>\n",
       "    <tr>\n",
       "      <th>14494</th>\n",
       "      <td>3725179745141.0</td>\n",
       "      <td>5581655</td>\n",
       "      <td>F</td>\n",
       "      <td>2016-04-14 08:24:05+00:00</td>\n",
       "      <td>2016-05-24 00:00:00+00:00</td>\n",
       "      <td>47</td>\n",
       "      <td>BENTO FERREIRA</td>\n",
       "      <td>0</td>\n",
       "      <td>1</td>\n",
       "      <td>0</td>\n",
       "      <td>0</td>\n",
       "      <td>0</td>\n",
       "      <td>1</td>\n",
       "      <td>0</td>\n",
       "    </tr>\n",
       "    <tr>\n",
       "      <th>27506</th>\n",
       "      <td>3725179745141.0</td>\n",
       "      <td>5226266</td>\n",
       "      <td>F</td>\n",
       "      <td>2016-01-07 09:49:06+00:00</td>\n",
       "      <td>2016-05-19 00:00:00+00:00</td>\n",
       "      <td>47</td>\n",
       "      <td>BENTO FERREIRA</td>\n",
       "      <td>0</td>\n",
       "      <td>1</td>\n",
       "      <td>0</td>\n",
       "      <td>0</td>\n",
       "      <td>0</td>\n",
       "      <td>0</td>\n",
       "      <td>0</td>\n",
       "    </tr>\n",
       "    <tr>\n",
       "      <th>27727</th>\n",
       "      <td>3725179745141.0</td>\n",
       "      <td>5557144</td>\n",
       "      <td>F</td>\n",
       "      <td>2016-04-07 13:55:00+00:00</td>\n",
       "      <td>2016-05-03 00:00:00+00:00</td>\n",
       "      <td>47</td>\n",
       "      <td>BENTO FERREIRA</td>\n",
       "      <td>0</td>\n",
       "      <td>1</td>\n",
       "      <td>0</td>\n",
       "      <td>0</td>\n",
       "      <td>0</td>\n",
       "      <td>1</td>\n",
       "      <td>0</td>\n",
       "    </tr>\n",
       "    <tr>\n",
       "      <th>35202</th>\n",
       "      <td>3725179745141.0</td>\n",
       "      <td>5651053</td>\n",
       "      <td>F</td>\n",
       "      <td>2016-05-03 08:22:17+00:00</td>\n",
       "      <td>2016-05-16 00:00:00+00:00</td>\n",
       "      <td>47</td>\n",
       "      <td>BENTO FERREIRA</td>\n",
       "      <td>0</td>\n",
       "      <td>1</td>\n",
       "      <td>0</td>\n",
       "      <td>0</td>\n",
       "      <td>0</td>\n",
       "      <td>0</td>\n",
       "      <td>0</td>\n",
       "    </tr>\n",
       "  </tbody>\n",
       "</table>\n",
       "</div>"
      ],
      "text/plain": [
       "             PatientId AppointmentID Gender              ScheduledDay  \\\n",
       "14494  3725179745141.0       5581655      F 2016-04-14 08:24:05+00:00   \n",
       "27506  3725179745141.0       5226266      F 2016-01-07 09:49:06+00:00   \n",
       "27727  3725179745141.0       5557144      F 2016-04-07 13:55:00+00:00   \n",
       "35202  3725179745141.0       5651053      F 2016-05-03 08:22:17+00:00   \n",
       "\n",
       "                 AppointmentDay  Age   Neighbourhood  Scholarship  \\\n",
       "14494 2016-05-24 00:00:00+00:00   47  BENTO FERREIRA            0   \n",
       "27506 2016-05-19 00:00:00+00:00   47  BENTO FERREIRA            0   \n",
       "27727 2016-05-03 00:00:00+00:00   47  BENTO FERREIRA            0   \n",
       "35202 2016-05-16 00:00:00+00:00   47  BENTO FERREIRA            0   \n",
       "\n",
       "       Hipertension  Diabetes  Alcoholism  Handcap  SMS_received  No-show  \n",
       "14494             1         0           0        0             1        0  \n",
       "27506             1         0           0        0             0        0  \n",
       "27727             1         0           0        0             1        0  \n",
       "35202             1         0           0        0             0        0  "
      ]
     },
     "execution_count": 322,
     "metadata": {},
     "output_type": "execute_result"
    }
   ],
   "source": [
    "df[df['PatientId'] == '3725179745141.0']"
   ]
  },
  {
   "cell_type": "code",
   "execution_count": 323,
   "metadata": {
    "scrolled": true
   },
   "outputs": [
    {
     "data": {
      "text/html": [
       "<div>\n",
       "<style scoped>\n",
       "    .dataframe tbody tr th:only-of-type {\n",
       "        vertical-align: middle;\n",
       "    }\n",
       "\n",
       "    .dataframe tbody tr th {\n",
       "        vertical-align: top;\n",
       "    }\n",
       "\n",
       "    .dataframe thead th {\n",
       "        text-align: right;\n",
       "    }\n",
       "</style>\n",
       "<table border=\"1\" class=\"dataframe\">\n",
       "  <thead>\n",
       "    <tr style=\"text-align: right;\">\n",
       "      <th></th>\n",
       "      <th>PatientId</th>\n",
       "      <th>AppointmentID</th>\n",
       "      <th>Gender</th>\n",
       "      <th>ScheduledDay</th>\n",
       "      <th>AppointmentDay</th>\n",
       "      <th>Age</th>\n",
       "      <th>Neighbourhood</th>\n",
       "      <th>Scholarship</th>\n",
       "      <th>Hipertension</th>\n",
       "      <th>Diabetes</th>\n",
       "      <th>Alcoholism</th>\n",
       "      <th>Handcap</th>\n",
       "      <th>SMS_received</th>\n",
       "      <th>No-show</th>\n",
       "    </tr>\n",
       "  </thead>\n",
       "  <tbody>\n",
       "    <tr>\n",
       "      <th>57601</th>\n",
       "      <td>99976271368587.0</td>\n",
       "      <td>5683648</td>\n",
       "      <td>M</td>\n",
       "      <td>2016-05-11 07:44:08+00:00</td>\n",
       "      <td>2016-05-11 00:00:00+00:00</td>\n",
       "      <td>16</td>\n",
       "      <td>NOVA PALESTINA</td>\n",
       "      <td>0</td>\n",
       "      <td>0</td>\n",
       "      <td>0</td>\n",
       "      <td>0</td>\n",
       "      <td>0</td>\n",
       "      <td>0</td>\n",
       "      <td>0</td>\n",
       "    </tr>\n",
       "    <tr>\n",
       "      <th>94046</th>\n",
       "      <td>99976271368587.0</td>\n",
       "      <td>5756332</td>\n",
       "      <td>M</td>\n",
       "      <td>2016-06-01 08:12:18+00:00</td>\n",
       "      <td>2016-06-01 00:00:00+00:00</td>\n",
       "      <td>16</td>\n",
       "      <td>NOVA PALESTINA</td>\n",
       "      <td>0</td>\n",
       "      <td>0</td>\n",
       "      <td>0</td>\n",
       "      <td>0</td>\n",
       "      <td>0</td>\n",
       "      <td>0</td>\n",
       "      <td>0</td>\n",
       "    </tr>\n",
       "  </tbody>\n",
       "</table>\n",
       "</div>"
      ],
      "text/plain": [
       "              PatientId AppointmentID Gender              ScheduledDay  \\\n",
       "57601  99976271368587.0       5683648      M 2016-05-11 07:44:08+00:00   \n",
       "94046  99976271368587.0       5756332      M 2016-06-01 08:12:18+00:00   \n",
       "\n",
       "                 AppointmentDay  Age   Neighbourhood  Scholarship  \\\n",
       "57601 2016-05-11 00:00:00+00:00   16  NOVA PALESTINA            0   \n",
       "94046 2016-06-01 00:00:00+00:00   16  NOVA PALESTINA            0   \n",
       "\n",
       "       Hipertension  Diabetes  Alcoholism  Handcap  SMS_received  No-show  \n",
       "57601             0         0           0        0             0        0  \n",
       "94046             0         0           0        0             0        0  "
      ]
     },
     "execution_count": 323,
     "metadata": {},
     "output_type": "execute_result"
    }
   ],
   "source": [
    "df[df['PatientId'] == '99976271368587.0']"
   ]
  },
  {
   "cell_type": "markdown",
   "metadata": {},
   "source": [
    "From our examination, we can see that there isn't much of a difference between the duplicated rows. The differences we see are in the ScheduledDay, AppointmentDay and SMS_received columns. \n",
    "\n",
    "Since these differences aren't too significant to the dependent variable 'No-show' (remains unchanged) and too maintain fairness for our analysis, we opt to drop all rows with duplicate PatientId values. This will ensure that every patient entry is unique."
   ]
  },
  {
   "cell_type": "code",
   "execution_count": 324,
   "metadata": {},
   "outputs": [
    {
     "name": "stdout",
     "output_type": "stream",
     "text": [
      "PatientId duplicates:  0\n"
     ]
    }
   ],
   "source": [
    "# Drop rows with PatientId duplicates and confirm\n",
    "df.drop_duplicates(subset = 'PatientId', inplace = True)\n",
    "print('PatientId duplicates: ',sum(df['PatientId'].duplicated()))"
   ]
  },
  {
   "cell_type": "markdown",
   "metadata": {},
   "source": [
    "Note: The action in the cell above should have reduced the number of rows in our dataset by 48228. So, the new number of rows should be 62299"
   ]
  },
  {
   "cell_type": "code",
   "execution_count": 325,
   "metadata": {},
   "outputs": [
    {
     "name": "stdout",
     "output_type": "stream",
     "text": [
      "Number of Rows:  62299\n"
     ]
    }
   ],
   "source": [
    "# Check for number of rows\n",
    "print('Number of Rows: ',df.shape[0])"
   ]
  },
  {
   "cell_type": "markdown",
   "metadata": {},
   "source": [
    "Next, we address the incorrectly spelled column names, after which we drop rows that have Scheduled days and/or times entered as after Appointment days and/or times. We then check these two corrections using df.head()"
   ]
  },
  {
   "cell_type": "code",
   "execution_count": 326,
   "metadata": {},
   "outputs": [],
   "source": [
    "# Replace the incorrectly spelled column names\n",
    "df.rename(columns= {'Hipertension': 'Hypertension', 'Handcap': 'Handicap'}, inplace = True)"
   ]
  },
  {
   "cell_type": "code",
   "execution_count": 327,
   "metadata": {
    "scrolled": true
   },
   "outputs": [
    {
     "data": {
      "text/html": [
       "<div>\n",
       "<style scoped>\n",
       "    .dataframe tbody tr th:only-of-type {\n",
       "        vertical-align: middle;\n",
       "    }\n",
       "\n",
       "    .dataframe tbody tr th {\n",
       "        vertical-align: top;\n",
       "    }\n",
       "\n",
       "    .dataframe thead th {\n",
       "        text-align: right;\n",
       "    }\n",
       "</style>\n",
       "<table border=\"1\" class=\"dataframe\">\n",
       "  <thead>\n",
       "    <tr style=\"text-align: right;\">\n",
       "      <th></th>\n",
       "      <th>PatientId</th>\n",
       "      <th>AppointmentID</th>\n",
       "      <th>Gender</th>\n",
       "      <th>ScheduledDay</th>\n",
       "      <th>AppointmentDay</th>\n",
       "      <th>Age</th>\n",
       "      <th>Neighbourhood</th>\n",
       "      <th>Scholarship</th>\n",
       "      <th>Hypertension</th>\n",
       "      <th>Diabetes</th>\n",
       "      <th>Alcoholism</th>\n",
       "      <th>Handicap</th>\n",
       "      <th>SMS_received</th>\n",
       "      <th>No-show</th>\n",
       "    </tr>\n",
       "  </thead>\n",
       "  <tbody>\n",
       "    <tr>\n",
       "      <th>5</th>\n",
       "      <td>95985133231274.0</td>\n",
       "      <td>5626772</td>\n",
       "      <td>F</td>\n",
       "      <td>2016-04-27 08:36:51+00:00</td>\n",
       "      <td>2016-04-29 00:00:00+00:00</td>\n",
       "      <td>76</td>\n",
       "      <td>REPÚBLICA</td>\n",
       "      <td>0</td>\n",
       "      <td>1</td>\n",
       "      <td>0</td>\n",
       "      <td>0</td>\n",
       "      <td>0</td>\n",
       "      <td>0</td>\n",
       "      <td>0</td>\n",
       "    </tr>\n",
       "    <tr>\n",
       "      <th>6</th>\n",
       "      <td>733688164476661.0</td>\n",
       "      <td>5630279</td>\n",
       "      <td>F</td>\n",
       "      <td>2016-04-27 15:05:12+00:00</td>\n",
       "      <td>2016-04-29 00:00:00+00:00</td>\n",
       "      <td>23</td>\n",
       "      <td>GOIABEIRAS</td>\n",
       "      <td>0</td>\n",
       "      <td>0</td>\n",
       "      <td>0</td>\n",
       "      <td>0</td>\n",
       "      <td>0</td>\n",
       "      <td>0</td>\n",
       "      <td>1</td>\n",
       "    </tr>\n",
       "    <tr>\n",
       "      <th>7</th>\n",
       "      <td>3449833394123.0</td>\n",
       "      <td>5630575</td>\n",
       "      <td>F</td>\n",
       "      <td>2016-04-27 15:39:58+00:00</td>\n",
       "      <td>2016-04-29 00:00:00+00:00</td>\n",
       "      <td>39</td>\n",
       "      <td>GOIABEIRAS</td>\n",
       "      <td>0</td>\n",
       "      <td>0</td>\n",
       "      <td>0</td>\n",
       "      <td>0</td>\n",
       "      <td>0</td>\n",
       "      <td>0</td>\n",
       "      <td>1</td>\n",
       "    </tr>\n",
       "    <tr>\n",
       "      <th>9</th>\n",
       "      <td>78124564369297.0</td>\n",
       "      <td>5629123</td>\n",
       "      <td>F</td>\n",
       "      <td>2016-04-27 12:48:25+00:00</td>\n",
       "      <td>2016-04-29 00:00:00+00:00</td>\n",
       "      <td>19</td>\n",
       "      <td>CONQUISTA</td>\n",
       "      <td>0</td>\n",
       "      <td>0</td>\n",
       "      <td>0</td>\n",
       "      <td>0</td>\n",
       "      <td>0</td>\n",
       "      <td>0</td>\n",
       "      <td>0</td>\n",
       "    </tr>\n",
       "    <tr>\n",
       "      <th>10</th>\n",
       "      <td>734536231958495.0</td>\n",
       "      <td>5630213</td>\n",
       "      <td>F</td>\n",
       "      <td>2016-04-27 14:58:11+00:00</td>\n",
       "      <td>2016-04-29 00:00:00+00:00</td>\n",
       "      <td>30</td>\n",
       "      <td>NOVA PALESTINA</td>\n",
       "      <td>0</td>\n",
       "      <td>0</td>\n",
       "      <td>0</td>\n",
       "      <td>0</td>\n",
       "      <td>0</td>\n",
       "      <td>0</td>\n",
       "      <td>0</td>\n",
       "    </tr>\n",
       "  </tbody>\n",
       "</table>\n",
       "</div>"
      ],
      "text/plain": [
       "            PatientId AppointmentID Gender              ScheduledDay  \\\n",
       "5    95985133231274.0       5626772      F 2016-04-27 08:36:51+00:00   \n",
       "6   733688164476661.0       5630279      F 2016-04-27 15:05:12+00:00   \n",
       "7     3449833394123.0       5630575      F 2016-04-27 15:39:58+00:00   \n",
       "9    78124564369297.0       5629123      F 2016-04-27 12:48:25+00:00   \n",
       "10  734536231958495.0       5630213      F 2016-04-27 14:58:11+00:00   \n",
       "\n",
       "              AppointmentDay  Age   Neighbourhood  Scholarship  Hypertension  \\\n",
       "5  2016-04-29 00:00:00+00:00   76       REPÚBLICA            0             1   \n",
       "6  2016-04-29 00:00:00+00:00   23      GOIABEIRAS            0             0   \n",
       "7  2016-04-29 00:00:00+00:00   39      GOIABEIRAS            0             0   \n",
       "9  2016-04-29 00:00:00+00:00   19       CONQUISTA            0             0   \n",
       "10 2016-04-29 00:00:00+00:00   30  NOVA PALESTINA            0             0   \n",
       "\n",
       "    Diabetes  Alcoholism  Handicap  SMS_received  No-show  \n",
       "5          0           0         0             0        0  \n",
       "6          0           0         0             0        1  \n",
       "7          0           0         0             0        1  \n",
       "9          0           0         0             0        0  \n",
       "10         0           0         0             0        0  "
      ]
     },
     "execution_count": 327,
     "metadata": {},
     "output_type": "execute_result"
    }
   ],
   "source": [
    "# Drop the columns with scheduled dates and/or times showing as after appointment dates and/or times\n",
    "df_discard = df[df['ScheduledDay'] > df['AppointmentDay']]\n",
    "df = df.drop(df_discard.index)\n",
    "df.head()"
   ]
  },
  {
   "cell_type": "markdown",
   "metadata": {},
   "source": [
    "Next, we renumber the indexes for organizational purposes. Then, we do another check to make sure that worked."
   ]
  },
  {
   "cell_type": "code",
   "execution_count": 328,
   "metadata": {
    "scrolled": true
   },
   "outputs": [
    {
     "data": {
      "text/html": [
       "<div>\n",
       "<style scoped>\n",
       "    .dataframe tbody tr th:only-of-type {\n",
       "        vertical-align: middle;\n",
       "    }\n",
       "\n",
       "    .dataframe tbody tr th {\n",
       "        vertical-align: top;\n",
       "    }\n",
       "\n",
       "    .dataframe thead th {\n",
       "        text-align: right;\n",
       "    }\n",
       "</style>\n",
       "<table border=\"1\" class=\"dataframe\">\n",
       "  <thead>\n",
       "    <tr style=\"text-align: right;\">\n",
       "      <th></th>\n",
       "      <th>PatientId</th>\n",
       "      <th>AppointmentID</th>\n",
       "      <th>Gender</th>\n",
       "      <th>ScheduledDay</th>\n",
       "      <th>AppointmentDay</th>\n",
       "      <th>Age</th>\n",
       "      <th>Neighbourhood</th>\n",
       "      <th>Scholarship</th>\n",
       "      <th>Hypertension</th>\n",
       "      <th>Diabetes</th>\n",
       "      <th>Alcoholism</th>\n",
       "      <th>Handicap</th>\n",
       "      <th>SMS_received</th>\n",
       "      <th>No-show</th>\n",
       "    </tr>\n",
       "  </thead>\n",
       "  <tbody>\n",
       "    <tr>\n",
       "      <th>0</th>\n",
       "      <td>95985133231274.0</td>\n",
       "      <td>5626772</td>\n",
       "      <td>F</td>\n",
       "      <td>2016-04-27 08:36:51+00:00</td>\n",
       "      <td>2016-04-29 00:00:00+00:00</td>\n",
       "      <td>76</td>\n",
       "      <td>REPÚBLICA</td>\n",
       "      <td>0</td>\n",
       "      <td>1</td>\n",
       "      <td>0</td>\n",
       "      <td>0</td>\n",
       "      <td>0</td>\n",
       "      <td>0</td>\n",
       "      <td>0</td>\n",
       "    </tr>\n",
       "    <tr>\n",
       "      <th>1</th>\n",
       "      <td>733688164476661.0</td>\n",
       "      <td>5630279</td>\n",
       "      <td>F</td>\n",
       "      <td>2016-04-27 15:05:12+00:00</td>\n",
       "      <td>2016-04-29 00:00:00+00:00</td>\n",
       "      <td>23</td>\n",
       "      <td>GOIABEIRAS</td>\n",
       "      <td>0</td>\n",
       "      <td>0</td>\n",
       "      <td>0</td>\n",
       "      <td>0</td>\n",
       "      <td>0</td>\n",
       "      <td>0</td>\n",
       "      <td>1</td>\n",
       "    </tr>\n",
       "    <tr>\n",
       "      <th>2</th>\n",
       "      <td>3449833394123.0</td>\n",
       "      <td>5630575</td>\n",
       "      <td>F</td>\n",
       "      <td>2016-04-27 15:39:58+00:00</td>\n",
       "      <td>2016-04-29 00:00:00+00:00</td>\n",
       "      <td>39</td>\n",
       "      <td>GOIABEIRAS</td>\n",
       "      <td>0</td>\n",
       "      <td>0</td>\n",
       "      <td>0</td>\n",
       "      <td>0</td>\n",
       "      <td>0</td>\n",
       "      <td>0</td>\n",
       "      <td>1</td>\n",
       "    </tr>\n",
       "    <tr>\n",
       "      <th>3</th>\n",
       "      <td>78124564369297.0</td>\n",
       "      <td>5629123</td>\n",
       "      <td>F</td>\n",
       "      <td>2016-04-27 12:48:25+00:00</td>\n",
       "      <td>2016-04-29 00:00:00+00:00</td>\n",
       "      <td>19</td>\n",
       "      <td>CONQUISTA</td>\n",
       "      <td>0</td>\n",
       "      <td>0</td>\n",
       "      <td>0</td>\n",
       "      <td>0</td>\n",
       "      <td>0</td>\n",
       "      <td>0</td>\n",
       "      <td>0</td>\n",
       "    </tr>\n",
       "    <tr>\n",
       "      <th>4</th>\n",
       "      <td>734536231958495.0</td>\n",
       "      <td>5630213</td>\n",
       "      <td>F</td>\n",
       "      <td>2016-04-27 14:58:11+00:00</td>\n",
       "      <td>2016-04-29 00:00:00+00:00</td>\n",
       "      <td>30</td>\n",
       "      <td>NOVA PALESTINA</td>\n",
       "      <td>0</td>\n",
       "      <td>0</td>\n",
       "      <td>0</td>\n",
       "      <td>0</td>\n",
       "      <td>0</td>\n",
       "      <td>0</td>\n",
       "      <td>0</td>\n",
       "    </tr>\n",
       "  </tbody>\n",
       "</table>\n",
       "</div>"
      ],
      "text/plain": [
       "           PatientId AppointmentID Gender              ScheduledDay  \\\n",
       "0   95985133231274.0       5626772      F 2016-04-27 08:36:51+00:00   \n",
       "1  733688164476661.0       5630279      F 2016-04-27 15:05:12+00:00   \n",
       "2    3449833394123.0       5630575      F 2016-04-27 15:39:58+00:00   \n",
       "3   78124564369297.0       5629123      F 2016-04-27 12:48:25+00:00   \n",
       "4  734536231958495.0       5630213      F 2016-04-27 14:58:11+00:00   \n",
       "\n",
       "             AppointmentDay  Age   Neighbourhood  Scholarship  Hypertension  \\\n",
       "0 2016-04-29 00:00:00+00:00   76       REPÚBLICA            0             1   \n",
       "1 2016-04-29 00:00:00+00:00   23      GOIABEIRAS            0             0   \n",
       "2 2016-04-29 00:00:00+00:00   39      GOIABEIRAS            0             0   \n",
       "3 2016-04-29 00:00:00+00:00   19       CONQUISTA            0             0   \n",
       "4 2016-04-29 00:00:00+00:00   30  NOVA PALESTINA            0             0   \n",
       "\n",
       "   Diabetes  Alcoholism  Handicap  SMS_received  No-show  \n",
       "0         0           0         0             0        0  \n",
       "1         0           0         0             0        1  \n",
       "2         0           0         0             0        1  \n",
       "3         0           0         0             0        0  \n",
       "4         0           0         0             0        0  "
      ]
     },
     "execution_count": 328,
     "metadata": {},
     "output_type": "execute_result"
    }
   ],
   "source": [
    "# Renumber indexes\n",
    "df = df.reset_index(drop = True)\n",
    "df.head()"
   ]
  },
  {
   "cell_type": "markdown",
   "metadata": {},
   "source": [
    "It worked! Next let's check info to verify that everything is good."
   ]
  },
  {
   "cell_type": "code",
   "execution_count": 329,
   "metadata": {},
   "outputs": [
    {
     "name": "stdout",
     "output_type": "stream",
     "text": [
      "<class 'pandas.core.frame.DataFrame'>\n",
      "RangeIndex: 40756 entries, 0 to 40755\n",
      "Data columns (total 14 columns):\n",
      " #   Column          Non-Null Count  Dtype              \n",
      "---  ------          --------------  -----              \n",
      " 0   PatientId       40756 non-null  object             \n",
      " 1   AppointmentID   40756 non-null  object             \n",
      " 2   Gender          40756 non-null  object             \n",
      " 3   ScheduledDay    40756 non-null  datetime64[ns, UTC]\n",
      " 4   AppointmentDay  40756 non-null  datetime64[ns, UTC]\n",
      " 5   Age             40756 non-null  int64              \n",
      " 6   Neighbourhood   40756 non-null  object             \n",
      " 7   Scholarship     40756 non-null  int64              \n",
      " 8   Hypertension    40756 non-null  int64              \n",
      " 9   Diabetes        40756 non-null  int64              \n",
      " 10  Alcoholism      40756 non-null  int64              \n",
      " 11  Handicap        40756 non-null  int64              \n",
      " 12  SMS_received    40756 non-null  int64              \n",
      " 13  No-show         40756 non-null  int64              \n",
      "dtypes: datetime64[ns, UTC](2), int64(8), object(4)\n",
      "memory usage: 4.4+ MB\n"
     ]
    }
   ],
   "source": [
    "# Verify cleanliness\n",
    "df.info()"
   ]
  },
  {
   "cell_type": "markdown",
   "metadata": {},
   "source": [
    "Our final, cleaned dataset now has 40756 entries with unique Patient IDs, correct data types and a logical sequence of Scheduled Dates and Appointment dates. To do a quick visual check. Let's take a random sample of 30 rows to see if we find anything else."
   ]
  },
  {
   "cell_type": "code",
   "execution_count": 330,
   "metadata": {
    "scrolled": true
   },
   "outputs": [
    {
     "data": {
      "text/html": [
       "<div>\n",
       "<style scoped>\n",
       "    .dataframe tbody tr th:only-of-type {\n",
       "        vertical-align: middle;\n",
       "    }\n",
       "\n",
       "    .dataframe tbody tr th {\n",
       "        vertical-align: top;\n",
       "    }\n",
       "\n",
       "    .dataframe thead th {\n",
       "        text-align: right;\n",
       "    }\n",
       "</style>\n",
       "<table border=\"1\" class=\"dataframe\">\n",
       "  <thead>\n",
       "    <tr style=\"text-align: right;\">\n",
       "      <th></th>\n",
       "      <th>PatientId</th>\n",
       "      <th>AppointmentID</th>\n",
       "      <th>Gender</th>\n",
       "      <th>ScheduledDay</th>\n",
       "      <th>AppointmentDay</th>\n",
       "      <th>Age</th>\n",
       "      <th>Neighbourhood</th>\n",
       "      <th>Scholarship</th>\n",
       "      <th>Hypertension</th>\n",
       "      <th>Diabetes</th>\n",
       "      <th>Alcoholism</th>\n",
       "      <th>Handicap</th>\n",
       "      <th>SMS_received</th>\n",
       "      <th>No-show</th>\n",
       "    </tr>\n",
       "  </thead>\n",
       "  <tbody>\n",
       "    <tr>\n",
       "      <th>11384</th>\n",
       "      <td>77546455559.0</td>\n",
       "      <td>5618824</td>\n",
       "      <td>M</td>\n",
       "      <td>2016-04-26 07:28:37+00:00</td>\n",
       "      <td>2016-05-20 00:00:00+00:00</td>\n",
       "      <td>73</td>\n",
       "      <td>CARATOÍRA</td>\n",
       "      <td>0</td>\n",
       "      <td>0</td>\n",
       "      <td>0</td>\n",
       "      <td>0</td>\n",
       "      <td>0</td>\n",
       "      <td>0</td>\n",
       "      <td>1</td>\n",
       "    </tr>\n",
       "    <tr>\n",
       "      <th>1652</th>\n",
       "      <td>8363345122194.0</td>\n",
       "      <td>5634951</td>\n",
       "      <td>F</td>\n",
       "      <td>2016-04-28 12:17:35+00:00</td>\n",
       "      <td>2016-04-29 00:00:00+00:00</td>\n",
       "      <td>57</td>\n",
       "      <td>SÃO JOSÉ</td>\n",
       "      <td>0</td>\n",
       "      <td>1</td>\n",
       "      <td>0</td>\n",
       "      <td>0</td>\n",
       "      <td>0</td>\n",
       "      <td>0</td>\n",
       "      <td>0</td>\n",
       "    </tr>\n",
       "    <tr>\n",
       "      <th>18588</th>\n",
       "      <td>868853846963671.0</td>\n",
       "      <td>5536708</td>\n",
       "      <td>F</td>\n",
       "      <td>2016-04-01 09:00:09+00:00</td>\n",
       "      <td>2016-05-11 00:00:00+00:00</td>\n",
       "      <td>53</td>\n",
       "      <td>JOANA D´ARC</td>\n",
       "      <td>0</td>\n",
       "      <td>0</td>\n",
       "      <td>0</td>\n",
       "      <td>0</td>\n",
       "      <td>0</td>\n",
       "      <td>1</td>\n",
       "      <td>0</td>\n",
       "    </tr>\n",
       "    <tr>\n",
       "      <th>36578</th>\n",
       "      <td>48189387745797.0</td>\n",
       "      <td>5683515</td>\n",
       "      <td>F</td>\n",
       "      <td>2016-05-11 07:35:48+00:00</td>\n",
       "      <td>2016-06-01 00:00:00+00:00</td>\n",
       "      <td>23</td>\n",
       "      <td>DO QUADRO</td>\n",
       "      <td>1</td>\n",
       "      <td>0</td>\n",
       "      <td>0</td>\n",
       "      <td>0</td>\n",
       "      <td>0</td>\n",
       "      <td>1</td>\n",
       "      <td>0</td>\n",
       "    </tr>\n",
       "    <tr>\n",
       "      <th>23443</th>\n",
       "      <td>756511948667794.0</td>\n",
       "      <td>5593416</td>\n",
       "      <td>F</td>\n",
       "      <td>2016-04-18 09:16:38+00:00</td>\n",
       "      <td>2016-05-03 00:00:00+00:00</td>\n",
       "      <td>26</td>\n",
       "      <td>CENTRO</td>\n",
       "      <td>0</td>\n",
       "      <td>0</td>\n",
       "      <td>0</td>\n",
       "      <td>0</td>\n",
       "      <td>0</td>\n",
       "      <td>1</td>\n",
       "      <td>0</td>\n",
       "    </tr>\n",
       "    <tr>\n",
       "      <th>10969</th>\n",
       "      <td>54716163642926.0</td>\n",
       "      <td>5640128</td>\n",
       "      <td>F</td>\n",
       "      <td>2016-04-29 10:09:17+00:00</td>\n",
       "      <td>2016-05-12 00:00:00+00:00</td>\n",
       "      <td>14</td>\n",
       "      <td>GURIGICA</td>\n",
       "      <td>0</td>\n",
       "      <td>0</td>\n",
       "      <td>0</td>\n",
       "      <td>0</td>\n",
       "      <td>0</td>\n",
       "      <td>1</td>\n",
       "      <td>1</td>\n",
       "    </tr>\n",
       "    <tr>\n",
       "      <th>2595</th>\n",
       "      <td>333342651143415.0</td>\n",
       "      <td>5697073</td>\n",
       "      <td>F</td>\n",
       "      <td>2016-05-13 14:53:07+00:00</td>\n",
       "      <td>2016-05-16 00:00:00+00:00</td>\n",
       "      <td>47</td>\n",
       "      <td>REPÚBLICA</td>\n",
       "      <td>1</td>\n",
       "      <td>1</td>\n",
       "      <td>0</td>\n",
       "      <td>0</td>\n",
       "      <td>0</td>\n",
       "      <td>0</td>\n",
       "      <td>0</td>\n",
       "    </tr>\n",
       "    <tr>\n",
       "      <th>22361</th>\n",
       "      <td>61249787964379.0</td>\n",
       "      <td>5576000</td>\n",
       "      <td>F</td>\n",
       "      <td>2016-04-13 07:51:42+00:00</td>\n",
       "      <td>2016-05-03 00:00:00+00:00</td>\n",
       "      <td>79</td>\n",
       "      <td>JARDIM DA PENHA</td>\n",
       "      <td>0</td>\n",
       "      <td>1</td>\n",
       "      <td>1</td>\n",
       "      <td>0</td>\n",
       "      <td>0</td>\n",
       "      <td>1</td>\n",
       "      <td>1</td>\n",
       "    </tr>\n",
       "    <tr>\n",
       "      <th>14796</th>\n",
       "      <td>34674525743675.0</td>\n",
       "      <td>5638985</td>\n",
       "      <td>F</td>\n",
       "      <td>2016-04-29 08:38:21+00:00</td>\n",
       "      <td>2016-05-03 00:00:00+00:00</td>\n",
       "      <td>58</td>\n",
       "      <td>DO MOSCOSO</td>\n",
       "      <td>0</td>\n",
       "      <td>0</td>\n",
       "      <td>0</td>\n",
       "      <td>0</td>\n",
       "      <td>0</td>\n",
       "      <td>1</td>\n",
       "      <td>1</td>\n",
       "    </tr>\n",
       "    <tr>\n",
       "      <th>28590</th>\n",
       "      <td>62985433492282.0</td>\n",
       "      <td>5607913</td>\n",
       "      <td>F</td>\n",
       "      <td>2016-04-20 12:51:23+00:00</td>\n",
       "      <td>2016-05-31 00:00:00+00:00</td>\n",
       "      <td>9</td>\n",
       "      <td>SÃO CRISTÓVÃO</td>\n",
       "      <td>0</td>\n",
       "      <td>0</td>\n",
       "      <td>0</td>\n",
       "      <td>0</td>\n",
       "      <td>0</td>\n",
       "      <td>0</td>\n",
       "      <td>0</td>\n",
       "    </tr>\n",
       "    <tr>\n",
       "      <th>9132</th>\n",
       "      <td>6735943441535.0</td>\n",
       "      <td>5710875</td>\n",
       "      <td>F</td>\n",
       "      <td>2016-05-18 06:41:53+00:00</td>\n",
       "      <td>2016-05-20 00:00:00+00:00</td>\n",
       "      <td>62</td>\n",
       "      <td>ILHA DAS CAIEIRAS</td>\n",
       "      <td>0</td>\n",
       "      <td>1</td>\n",
       "      <td>1</td>\n",
       "      <td>0</td>\n",
       "      <td>0</td>\n",
       "      <td>0</td>\n",
       "      <td>0</td>\n",
       "    </tr>\n",
       "    <tr>\n",
       "      <th>955</th>\n",
       "      <td>18494835315599.0</td>\n",
       "      <td>5590005</td>\n",
       "      <td>F</td>\n",
       "      <td>2016-04-15 13:25:20+00:00</td>\n",
       "      <td>2016-04-29 00:00:00+00:00</td>\n",
       "      <td>42</td>\n",
       "      <td>BENTO FERREIRA</td>\n",
       "      <td>0</td>\n",
       "      <td>0</td>\n",
       "      <td>0</td>\n",
       "      <td>0</td>\n",
       "      <td>0</td>\n",
       "      <td>1</td>\n",
       "      <td>0</td>\n",
       "    </tr>\n",
       "    <tr>\n",
       "      <th>3130</th>\n",
       "      <td>68772965821192.0</td>\n",
       "      <td>5694814</td>\n",
       "      <td>F</td>\n",
       "      <td>2016-05-13 09:01:21+00:00</td>\n",
       "      <td>2016-05-18 00:00:00+00:00</td>\n",
       "      <td>6</td>\n",
       "      <td>SANTO ANTÔNIO</td>\n",
       "      <td>0</td>\n",
       "      <td>0</td>\n",
       "      <td>0</td>\n",
       "      <td>0</td>\n",
       "      <td>0</td>\n",
       "      <td>0</td>\n",
       "      <td>0</td>\n",
       "    </tr>\n",
       "    <tr>\n",
       "      <th>3785</th>\n",
       "      <td>67898769152493.0</td>\n",
       "      <td>5722045</td>\n",
       "      <td>F</td>\n",
       "      <td>2016-05-20 07:01:47+00:00</td>\n",
       "      <td>2016-05-24 00:00:00+00:00</td>\n",
       "      <td>47</td>\n",
       "      <td>JARDIM CAMBURI</td>\n",
       "      <td>0</td>\n",
       "      <td>0</td>\n",
       "      <td>0</td>\n",
       "      <td>0</td>\n",
       "      <td>0</td>\n",
       "      <td>1</td>\n",
       "      <td>1</td>\n",
       "    </tr>\n",
       "    <tr>\n",
       "      <th>32648</th>\n",
       "      <td>597916443831136.0</td>\n",
       "      <td>5651085</td>\n",
       "      <td>M</td>\n",
       "      <td>2016-05-03 08:25:01+00:00</td>\n",
       "      <td>2016-05-24 00:00:00+00:00</td>\n",
       "      <td>4</td>\n",
       "      <td>CENTRO</td>\n",
       "      <td>0</td>\n",
       "      <td>0</td>\n",
       "      <td>0</td>\n",
       "      <td>0</td>\n",
       "      <td>0</td>\n",
       "      <td>1</td>\n",
       "      <td>1</td>\n",
       "    </tr>\n",
       "    <tr>\n",
       "      <th>4995</th>\n",
       "      <td>1362565939574.0</td>\n",
       "      <td>5658541</td>\n",
       "      <td>F</td>\n",
       "      <td>2016-05-04 11:19:28+00:00</td>\n",
       "      <td>2016-05-06 00:00:00+00:00</td>\n",
       "      <td>55</td>\n",
       "      <td>PRAIA DO CANTO</td>\n",
       "      <td>0</td>\n",
       "      <td>0</td>\n",
       "      <td>0</td>\n",
       "      <td>0</td>\n",
       "      <td>0</td>\n",
       "      <td>0</td>\n",
       "      <td>0</td>\n",
       "    </tr>\n",
       "    <tr>\n",
       "      <th>28920</th>\n",
       "      <td>374329593456597.0</td>\n",
       "      <td>5714299</td>\n",
       "      <td>F</td>\n",
       "      <td>2016-05-18 11:41:53+00:00</td>\n",
       "      <td>2016-05-24 00:00:00+00:00</td>\n",
       "      <td>55</td>\n",
       "      <td>JARDIM CAMBURI</td>\n",
       "      <td>0</td>\n",
       "      <td>0</td>\n",
       "      <td>0</td>\n",
       "      <td>0</td>\n",
       "      <td>0</td>\n",
       "      <td>1</td>\n",
       "      <td>0</td>\n",
       "    </tr>\n",
       "    <tr>\n",
       "      <th>35335</th>\n",
       "      <td>52687715372661.0</td>\n",
       "      <td>5736347</td>\n",
       "      <td>M</td>\n",
       "      <td>2016-05-25 08:13:31+00:00</td>\n",
       "      <td>2016-06-01 00:00:00+00:00</td>\n",
       "      <td>5</td>\n",
       "      <td>CONQUISTA</td>\n",
       "      <td>0</td>\n",
       "      <td>0</td>\n",
       "      <td>0</td>\n",
       "      <td>0</td>\n",
       "      <td>0</td>\n",
       "      <td>1</td>\n",
       "      <td>1</td>\n",
       "    </tr>\n",
       "    <tr>\n",
       "      <th>9860</th>\n",
       "      <td>6555869942483.0</td>\n",
       "      <td>5694284</td>\n",
       "      <td>M</td>\n",
       "      <td>2016-05-13 08:26:12+00:00</td>\n",
       "      <td>2016-05-18 00:00:00+00:00</td>\n",
       "      <td>41</td>\n",
       "      <td>SANTO ANDRÉ</td>\n",
       "      <td>0</td>\n",
       "      <td>1</td>\n",
       "      <td>0</td>\n",
       "      <td>0</td>\n",
       "      <td>1</td>\n",
       "      <td>0</td>\n",
       "      <td>0</td>\n",
       "    </tr>\n",
       "    <tr>\n",
       "      <th>30759</th>\n",
       "      <td>198941363787548.0</td>\n",
       "      <td>5676147</td>\n",
       "      <td>F</td>\n",
       "      <td>2016-05-09 15:04:26+00:00</td>\n",
       "      <td>2016-05-25 00:00:00+00:00</td>\n",
       "      <td>46</td>\n",
       "      <td>MARIA ORTIZ</td>\n",
       "      <td>0</td>\n",
       "      <td>0</td>\n",
       "      <td>0</td>\n",
       "      <td>0</td>\n",
       "      <td>0</td>\n",
       "      <td>1</td>\n",
       "      <td>0</td>\n",
       "    </tr>\n",
       "    <tr>\n",
       "      <th>25556</th>\n",
       "      <td>546134239978493.0</td>\n",
       "      <td>5687676</td>\n",
       "      <td>F</td>\n",
       "      <td>2016-05-11 16:10:36+00:00</td>\n",
       "      <td>2016-05-17 00:00:00+00:00</td>\n",
       "      <td>15</td>\n",
       "      <td>SÃO PEDRO</td>\n",
       "      <td>0</td>\n",
       "      <td>0</td>\n",
       "      <td>0</td>\n",
       "      <td>0</td>\n",
       "      <td>0</td>\n",
       "      <td>0</td>\n",
       "      <td>0</td>\n",
       "    </tr>\n",
       "    <tr>\n",
       "      <th>4914</th>\n",
       "      <td>4862789637461.0</td>\n",
       "      <td>5682417</td>\n",
       "      <td>F</td>\n",
       "      <td>2016-05-10 16:32:43+00:00</td>\n",
       "      <td>2016-05-11 00:00:00+00:00</td>\n",
       "      <td>2</td>\n",
       "      <td>JESUS DE NAZARETH</td>\n",
       "      <td>0</td>\n",
       "      <td>0</td>\n",
       "      <td>0</td>\n",
       "      <td>0</td>\n",
       "      <td>0</td>\n",
       "      <td>0</td>\n",
       "      <td>0</td>\n",
       "    </tr>\n",
       "    <tr>\n",
       "      <th>29525</th>\n",
       "      <td>117633221617617.0</td>\n",
       "      <td>5657709</td>\n",
       "      <td>M</td>\n",
       "      <td>2016-05-04 09:48:04+00:00</td>\n",
       "      <td>2016-05-09 00:00:00+00:00</td>\n",
       "      <td>26</td>\n",
       "      <td>SANTA LUÍZA</td>\n",
       "      <td>0</td>\n",
       "      <td>0</td>\n",
       "      <td>0</td>\n",
       "      <td>0</td>\n",
       "      <td>0</td>\n",
       "      <td>0</td>\n",
       "      <td>0</td>\n",
       "    </tr>\n",
       "    <tr>\n",
       "      <th>40565</th>\n",
       "      <td>54231928275.0</td>\n",
       "      <td>5755436</td>\n",
       "      <td>M</td>\n",
       "      <td>2016-06-01 07:22:41+00:00</td>\n",
       "      <td>2016-06-03 00:00:00+00:00</td>\n",
       "      <td>57</td>\n",
       "      <td>ESTRELINHA</td>\n",
       "      <td>0</td>\n",
       "      <td>1</td>\n",
       "      <td>0</td>\n",
       "      <td>0</td>\n",
       "      <td>0</td>\n",
       "      <td>0</td>\n",
       "      <td>1</td>\n",
       "    </tr>\n",
       "    <tr>\n",
       "      <th>18709</th>\n",
       "      <td>46999636733569.0</td>\n",
       "      <td>5720637</td>\n",
       "      <td>F</td>\n",
       "      <td>2016-05-19 14:14:48+00:00</td>\n",
       "      <td>2016-05-20 00:00:00+00:00</td>\n",
       "      <td>37</td>\n",
       "      <td>CARATOÍRA</td>\n",
       "      <td>0</td>\n",
       "      <td>0</td>\n",
       "      <td>0</td>\n",
       "      <td>0</td>\n",
       "      <td>0</td>\n",
       "      <td>0</td>\n",
       "      <td>0</td>\n",
       "    </tr>\n",
       "    <tr>\n",
       "      <th>29831</th>\n",
       "      <td>74888896989985.0</td>\n",
       "      <td>5656960</td>\n",
       "      <td>F</td>\n",
       "      <td>2016-05-04 08:47:34+00:00</td>\n",
       "      <td>2016-05-19 00:00:00+00:00</td>\n",
       "      <td>22</td>\n",
       "      <td>CONSOLAÇÃO</td>\n",
       "      <td>0</td>\n",
       "      <td>0</td>\n",
       "      <td>0</td>\n",
       "      <td>0</td>\n",
       "      <td>0</td>\n",
       "      <td>0</td>\n",
       "      <td>0</td>\n",
       "    </tr>\n",
       "    <tr>\n",
       "      <th>26637</th>\n",
       "      <td>127528842289285.0</td>\n",
       "      <td>5697617</td>\n",
       "      <td>F</td>\n",
       "      <td>2016-05-13 16:47:09+00:00</td>\n",
       "      <td>2016-05-19 00:00:00+00:00</td>\n",
       "      <td>13</td>\n",
       "      <td>SÃO CRISTÓVÃO</td>\n",
       "      <td>0</td>\n",
       "      <td>0</td>\n",
       "      <td>0</td>\n",
       "      <td>0</td>\n",
       "      <td>0</td>\n",
       "      <td>0</td>\n",
       "      <td>1</td>\n",
       "    </tr>\n",
       "    <tr>\n",
       "      <th>28241</th>\n",
       "      <td>89818877559575.0</td>\n",
       "      <td>5591559</td>\n",
       "      <td>M</td>\n",
       "      <td>2016-04-15 19:08:16+00:00</td>\n",
       "      <td>2016-05-25 00:00:00+00:00</td>\n",
       "      <td>51</td>\n",
       "      <td>JARDIM CAMBURI</td>\n",
       "      <td>0</td>\n",
       "      <td>0</td>\n",
       "      <td>0</td>\n",
       "      <td>0</td>\n",
       "      <td>0</td>\n",
       "      <td>1</td>\n",
       "      <td>0</td>\n",
       "    </tr>\n",
       "    <tr>\n",
       "      <th>36159</th>\n",
       "      <td>714979958184865.0</td>\n",
       "      <td>5722587</td>\n",
       "      <td>M</td>\n",
       "      <td>2016-05-20 07:27:27+00:00</td>\n",
       "      <td>2016-06-06 00:00:00+00:00</td>\n",
       "      <td>77</td>\n",
       "      <td>SANTA LÚCIA</td>\n",
       "      <td>0</td>\n",
       "      <td>0</td>\n",
       "      <td>0</td>\n",
       "      <td>0</td>\n",
       "      <td>0</td>\n",
       "      <td>0</td>\n",
       "      <td>0</td>\n",
       "    </tr>\n",
       "    <tr>\n",
       "      <th>19609</th>\n",
       "      <td>861156191865827.0</td>\n",
       "      <td>5706226</td>\n",
       "      <td>F</td>\n",
       "      <td>2016-05-17 08:01:09+00:00</td>\n",
       "      <td>2016-05-31 00:00:00+00:00</td>\n",
       "      <td>17</td>\n",
       "      <td>JABOUR</td>\n",
       "      <td>0</td>\n",
       "      <td>0</td>\n",
       "      <td>0</td>\n",
       "      <td>0</td>\n",
       "      <td>0</td>\n",
       "      <td>1</td>\n",
       "      <td>0</td>\n",
       "    </tr>\n",
       "  </tbody>\n",
       "</table>\n",
       "</div>"
      ],
      "text/plain": [
       "               PatientId AppointmentID Gender              ScheduledDay  \\\n",
       "11384      77546455559.0       5618824      M 2016-04-26 07:28:37+00:00   \n",
       "1652     8363345122194.0       5634951      F 2016-04-28 12:17:35+00:00   \n",
       "18588  868853846963671.0       5536708      F 2016-04-01 09:00:09+00:00   \n",
       "36578   48189387745797.0       5683515      F 2016-05-11 07:35:48+00:00   \n",
       "23443  756511948667794.0       5593416      F 2016-04-18 09:16:38+00:00   \n",
       "10969   54716163642926.0       5640128      F 2016-04-29 10:09:17+00:00   \n",
       "2595   333342651143415.0       5697073      F 2016-05-13 14:53:07+00:00   \n",
       "22361   61249787964379.0       5576000      F 2016-04-13 07:51:42+00:00   \n",
       "14796   34674525743675.0       5638985      F 2016-04-29 08:38:21+00:00   \n",
       "28590   62985433492282.0       5607913      F 2016-04-20 12:51:23+00:00   \n",
       "9132     6735943441535.0       5710875      F 2016-05-18 06:41:53+00:00   \n",
       "955     18494835315599.0       5590005      F 2016-04-15 13:25:20+00:00   \n",
       "3130    68772965821192.0       5694814      F 2016-05-13 09:01:21+00:00   \n",
       "3785    67898769152493.0       5722045      F 2016-05-20 07:01:47+00:00   \n",
       "32648  597916443831136.0       5651085      M 2016-05-03 08:25:01+00:00   \n",
       "4995     1362565939574.0       5658541      F 2016-05-04 11:19:28+00:00   \n",
       "28920  374329593456597.0       5714299      F 2016-05-18 11:41:53+00:00   \n",
       "35335   52687715372661.0       5736347      M 2016-05-25 08:13:31+00:00   \n",
       "9860     6555869942483.0       5694284      M 2016-05-13 08:26:12+00:00   \n",
       "30759  198941363787548.0       5676147      F 2016-05-09 15:04:26+00:00   \n",
       "25556  546134239978493.0       5687676      F 2016-05-11 16:10:36+00:00   \n",
       "4914     4862789637461.0       5682417      F 2016-05-10 16:32:43+00:00   \n",
       "29525  117633221617617.0       5657709      M 2016-05-04 09:48:04+00:00   \n",
       "40565      54231928275.0       5755436      M 2016-06-01 07:22:41+00:00   \n",
       "18709   46999636733569.0       5720637      F 2016-05-19 14:14:48+00:00   \n",
       "29831   74888896989985.0       5656960      F 2016-05-04 08:47:34+00:00   \n",
       "26637  127528842289285.0       5697617      F 2016-05-13 16:47:09+00:00   \n",
       "28241   89818877559575.0       5591559      M 2016-04-15 19:08:16+00:00   \n",
       "36159  714979958184865.0       5722587      M 2016-05-20 07:27:27+00:00   \n",
       "19609  861156191865827.0       5706226      F 2016-05-17 08:01:09+00:00   \n",
       "\n",
       "                 AppointmentDay  Age      Neighbourhood  Scholarship  \\\n",
       "11384 2016-05-20 00:00:00+00:00   73          CARATOÍRA            0   \n",
       "1652  2016-04-29 00:00:00+00:00   57           SÃO JOSÉ            0   \n",
       "18588 2016-05-11 00:00:00+00:00   53        JOANA D´ARC            0   \n",
       "36578 2016-06-01 00:00:00+00:00   23          DO QUADRO            1   \n",
       "23443 2016-05-03 00:00:00+00:00   26             CENTRO            0   \n",
       "10969 2016-05-12 00:00:00+00:00   14           GURIGICA            0   \n",
       "2595  2016-05-16 00:00:00+00:00   47          REPÚBLICA            1   \n",
       "22361 2016-05-03 00:00:00+00:00   79    JARDIM DA PENHA            0   \n",
       "14796 2016-05-03 00:00:00+00:00   58         DO MOSCOSO            0   \n",
       "28590 2016-05-31 00:00:00+00:00    9      SÃO CRISTÓVÃO            0   \n",
       "9132  2016-05-20 00:00:00+00:00   62  ILHA DAS CAIEIRAS            0   \n",
       "955   2016-04-29 00:00:00+00:00   42     BENTO FERREIRA            0   \n",
       "3130  2016-05-18 00:00:00+00:00    6      SANTO ANTÔNIO            0   \n",
       "3785  2016-05-24 00:00:00+00:00   47     JARDIM CAMBURI            0   \n",
       "32648 2016-05-24 00:00:00+00:00    4             CENTRO            0   \n",
       "4995  2016-05-06 00:00:00+00:00   55     PRAIA DO CANTO            0   \n",
       "28920 2016-05-24 00:00:00+00:00   55     JARDIM CAMBURI            0   \n",
       "35335 2016-06-01 00:00:00+00:00    5          CONQUISTA            0   \n",
       "9860  2016-05-18 00:00:00+00:00   41        SANTO ANDRÉ            0   \n",
       "30759 2016-05-25 00:00:00+00:00   46        MARIA ORTIZ            0   \n",
       "25556 2016-05-17 00:00:00+00:00   15          SÃO PEDRO            0   \n",
       "4914  2016-05-11 00:00:00+00:00    2  JESUS DE NAZARETH            0   \n",
       "29525 2016-05-09 00:00:00+00:00   26        SANTA LUÍZA            0   \n",
       "40565 2016-06-03 00:00:00+00:00   57         ESTRELINHA            0   \n",
       "18709 2016-05-20 00:00:00+00:00   37          CARATOÍRA            0   \n",
       "29831 2016-05-19 00:00:00+00:00   22         CONSOLAÇÃO            0   \n",
       "26637 2016-05-19 00:00:00+00:00   13      SÃO CRISTÓVÃO            0   \n",
       "28241 2016-05-25 00:00:00+00:00   51     JARDIM CAMBURI            0   \n",
       "36159 2016-06-06 00:00:00+00:00   77        SANTA LÚCIA            0   \n",
       "19609 2016-05-31 00:00:00+00:00   17             JABOUR            0   \n",
       "\n",
       "       Hypertension  Diabetes  Alcoholism  Handicap  SMS_received  No-show  \n",
       "11384             0         0           0         0             0        1  \n",
       "1652              1         0           0         0             0        0  \n",
       "18588             0         0           0         0             1        0  \n",
       "36578             0         0           0         0             1        0  \n",
       "23443             0         0           0         0             1        0  \n",
       "10969             0         0           0         0             1        1  \n",
       "2595              1         0           0         0             0        0  \n",
       "22361             1         1           0         0             1        1  \n",
       "14796             0         0           0         0             1        1  \n",
       "28590             0         0           0         0             0        0  \n",
       "9132              1         1           0         0             0        0  \n",
       "955               0         0           0         0             1        0  \n",
       "3130              0         0           0         0             0        0  \n",
       "3785              0         0           0         0             1        1  \n",
       "32648             0         0           0         0             1        1  \n",
       "4995              0         0           0         0             0        0  \n",
       "28920             0         0           0         0             1        0  \n",
       "35335             0         0           0         0             1        1  \n",
       "9860              1         0           0         1             0        0  \n",
       "30759             0         0           0         0             1        0  \n",
       "25556             0         0           0         0             0        0  \n",
       "4914              0         0           0         0             0        0  \n",
       "29525             0         0           0         0             0        0  \n",
       "40565             1         0           0         0             0        1  \n",
       "18709             0         0           0         0             0        0  \n",
       "29831             0         0           0         0             0        0  \n",
       "26637             0         0           0         0             0        1  \n",
       "28241             0         0           0         0             1        0  \n",
       "36159             0         0           0         0             0        0  \n",
       "19609             0         0           0         0             1        0  "
      ]
     },
     "execution_count": 330,
     "metadata": {},
     "output_type": "execute_result"
    }
   ],
   "source": [
    "df.sample(30)"
   ]
  },
  {
   "cell_type": "markdown",
   "metadata": {},
   "source": [
    "Looks good to me! Of course, data cleaning is an iterative process, and we may not have caught everything on the first try, especially for such a large dataset. But for the purpose of this project's setup, this would do. Now we can move on the the Exploratory Data Analysis phase of the project."
   ]
  },
  {
   "cell_type": "markdown",
   "metadata": {},
   "source": [
    "<a id='eda'></a>\n",
    "## Exploratory Data Analysis\n",
    "\n",
    "> **Tip**: Now that you've trimmed and cleaned your data, you're ready to move on to exploration. Compute statistics and create visualizations with the goal of addressing the research questions that you posed in the Introduction section. It is recommended that you be systematic with your approach. Look at one variable at a time, and then follow it up by looking at relationships between variables.\n"
   ]
  },
  {
   "cell_type": "markdown",
   "metadata": {},
   "source": [
    "### Summary Statistics\n",
    "Before addressing the questions asked in the Introduction section, let's examine some summary statistics"
   ]
  },
  {
   "cell_type": "code",
   "execution_count": 331,
   "metadata": {
    "scrolled": true
   },
   "outputs": [
    {
     "data": {
      "text/html": [
       "<div>\n",
       "<style scoped>\n",
       "    .dataframe tbody tr th:only-of-type {\n",
       "        vertical-align: middle;\n",
       "    }\n",
       "\n",
       "    .dataframe tbody tr th {\n",
       "        vertical-align: top;\n",
       "    }\n",
       "\n",
       "    .dataframe thead th {\n",
       "        text-align: right;\n",
       "    }\n",
       "</style>\n",
       "<table border=\"1\" class=\"dataframe\">\n",
       "  <thead>\n",
       "    <tr style=\"text-align: right;\">\n",
       "      <th></th>\n",
       "      <th>Age</th>\n",
       "      <th>Scholarship</th>\n",
       "      <th>Hypertension</th>\n",
       "      <th>Diabetes</th>\n",
       "      <th>Alcoholism</th>\n",
       "      <th>Handicap</th>\n",
       "      <th>SMS_received</th>\n",
       "      <th>No-show</th>\n",
       "    </tr>\n",
       "  </thead>\n",
       "  <tbody>\n",
       "    <tr>\n",
       "      <th>count</th>\n",
       "      <td>40756.000000</td>\n",
       "      <td>40756.000000</td>\n",
       "      <td>40756.000000</td>\n",
       "      <td>40756.000000</td>\n",
       "      <td>40756.000000</td>\n",
       "      <td>40756.000000</td>\n",
       "      <td>40756.000000</td>\n",
       "      <td>40756.000000</td>\n",
       "    </tr>\n",
       "    <tr>\n",
       "      <th>mean</th>\n",
       "      <td>38.378815</td>\n",
       "      <td>0.087742</td>\n",
       "      <td>0.208779</td>\n",
       "      <td>0.073363</td>\n",
       "      <td>0.023334</td>\n",
       "      <td>0.019089</td>\n",
       "      <td>0.500393</td>\n",
       "      <td>0.281676</td>\n",
       "    </tr>\n",
       "    <tr>\n",
       "      <th>std</th>\n",
       "      <td>23.329187</td>\n",
       "      <td>0.282922</td>\n",
       "      <td>0.406441</td>\n",
       "      <td>0.260735</td>\n",
       "      <td>0.150964</td>\n",
       "      <td>0.151963</td>\n",
       "      <td>0.500006</td>\n",
       "      <td>0.449822</td>\n",
       "    </tr>\n",
       "    <tr>\n",
       "      <th>min</th>\n",
       "      <td>0.000000</td>\n",
       "      <td>0.000000</td>\n",
       "      <td>0.000000</td>\n",
       "      <td>0.000000</td>\n",
       "      <td>0.000000</td>\n",
       "      <td>0.000000</td>\n",
       "      <td>0.000000</td>\n",
       "      <td>0.000000</td>\n",
       "    </tr>\n",
       "    <tr>\n",
       "      <th>25%</th>\n",
       "      <td>19.000000</td>\n",
       "      <td>0.000000</td>\n",
       "      <td>0.000000</td>\n",
       "      <td>0.000000</td>\n",
       "      <td>0.000000</td>\n",
       "      <td>0.000000</td>\n",
       "      <td>0.000000</td>\n",
       "      <td>0.000000</td>\n",
       "    </tr>\n",
       "    <tr>\n",
       "      <th>50%</th>\n",
       "      <td>39.000000</td>\n",
       "      <td>0.000000</td>\n",
       "      <td>0.000000</td>\n",
       "      <td>0.000000</td>\n",
       "      <td>0.000000</td>\n",
       "      <td>0.000000</td>\n",
       "      <td>1.000000</td>\n",
       "      <td>0.000000</td>\n",
       "    </tr>\n",
       "    <tr>\n",
       "      <th>75%</th>\n",
       "      <td>57.000000</td>\n",
       "      <td>0.000000</td>\n",
       "      <td>0.000000</td>\n",
       "      <td>0.000000</td>\n",
       "      <td>0.000000</td>\n",
       "      <td>0.000000</td>\n",
       "      <td>1.000000</td>\n",
       "      <td>1.000000</td>\n",
       "    </tr>\n",
       "    <tr>\n",
       "      <th>max</th>\n",
       "      <td>115.000000</td>\n",
       "      <td>1.000000</td>\n",
       "      <td>1.000000</td>\n",
       "      <td>1.000000</td>\n",
       "      <td>1.000000</td>\n",
       "      <td>4.000000</td>\n",
       "      <td>1.000000</td>\n",
       "      <td>1.000000</td>\n",
       "    </tr>\n",
       "  </tbody>\n",
       "</table>\n",
       "</div>"
      ],
      "text/plain": [
       "                Age   Scholarship  Hypertension      Diabetes    Alcoholism  \\\n",
       "count  40756.000000  40756.000000  40756.000000  40756.000000  40756.000000   \n",
       "mean      38.378815      0.087742      0.208779      0.073363      0.023334   \n",
       "std       23.329187      0.282922      0.406441      0.260735      0.150964   \n",
       "min        0.000000      0.000000      0.000000      0.000000      0.000000   \n",
       "25%       19.000000      0.000000      0.000000      0.000000      0.000000   \n",
       "50%       39.000000      0.000000      0.000000      0.000000      0.000000   \n",
       "75%       57.000000      0.000000      0.000000      0.000000      0.000000   \n",
       "max      115.000000      1.000000      1.000000      1.000000      1.000000   \n",
       "\n",
       "           Handicap  SMS_received       No-show  \n",
       "count  40756.000000  40756.000000  40756.000000  \n",
       "mean       0.019089      0.500393      0.281676  \n",
       "std        0.151963      0.500006      0.449822  \n",
       "min        0.000000      0.000000      0.000000  \n",
       "25%        0.000000      0.000000      0.000000  \n",
       "50%        0.000000      1.000000      0.000000  \n",
       "75%        0.000000      1.000000      1.000000  \n",
       "max        4.000000      1.000000      1.000000  "
      ]
     },
     "execution_count": 331,
     "metadata": {},
     "output_type": "execute_result"
    }
   ],
   "source": [
    "# Summary statistics\n",
    "df.describe()"
   ]
  },
  {
   "cell_type": "markdown",
   "metadata": {},
   "source": [
    "From the summary statistics above, we see that the most prevalent patients that scheduled appointments were Hypertension patients (20%). We also see that about 50% of patients that scheduled appointments received SMS reminders. 28% of people with scheduled appointments did not show up for their appointments. About 9% of patients who scheduled appointments received the Bolsa Família Scholarship.\n",
    "\n",
    "The gender column is omitted from summary statistics because it is a categorical variable (although we could change it to an integer column by assigning 0 and 1 values for male and female or vice-versa, we opt to keep it as categorical for the purpose of table clarity). The Neighborhood column is also omitted for the same reason."
   ]
  },
  {
   "cell_type": "markdown",
   "metadata": {},
   "source": [
    "Let's examine the distribution of each numeric variable visually."
   ]
  },
  {
   "cell_type": "code",
   "execution_count": 332,
   "metadata": {},
   "outputs": [
    {
     "data": {
      "image/png": "[encoded data removed]",
      "text/plain": [
       "<Figure size 720x576 with 9 Axes>"
      ]
     },
     "metadata": {},
     "output_type": "display_data"
    }
   ],
   "source": [
    "df.hist(figsize = (10,8));"
   ]
  },
  {
   "cell_type": "markdown",
   "metadata": {},
   "source": [
    "From the histograms above, we get a more visual look at eack variable's distribution. This complements the summary statistics table we saw previously."
   ]
  },
  {
   "cell_type": "markdown",
   "metadata": {},
   "source": [
    "Moving to the research questions, we will be tackling the following questions in this section:\n",
    "\n",
    "- How does gender affect number of appointments missed?\n",
    "- Do patients who receive the Bolsa Família Scholarship tend to show up to more or less appointments than patients who do not?\n",
    "- How do Hypertension patients tend to respond to medical appointments?\n",
    "- Do patients who have one or more SMS messages sent to them tend to show up to more or less appointments than patients who do not?\n",
    "\n",
    "Our dependent variable is 'No-shows'. Each question above addresses how various independent variables could relate with the dependent variable.\n",
    "\n",
    "#### Note: The above statement does not imply causation."
   ]
  },
  {
   "cell_type": "markdown",
   "metadata": {},
   "source": [
    "### plot_bar function\n",
    "For ease of single bar chart plotting, we write a plot_bar function to be used subsequently."
   ]
  },
  {
   "cell_type": "code",
   "execution_count": 333,
   "metadata": {},
   "outputs": [],
   "source": [
    "# Bar chart plot function\n",
    "def plot_bar(heights, labels, plot_title, x, y):\n",
    "    loc = list(range(1,len(heights) + 1))\n",
    "    plt.bar(loc, heights, tick_label = labels)\n",
    "    plt.title(plot_title)\n",
    "    plt.xlabel(x)\n",
    "    plt.ylabel(y)"
   ]
  },
  {
   "cell_type": "markdown",
   "metadata": {},
   "source": [
    "Note: Some cells in this section will output some values. These values are described using print functions. Follow along."
   ]
  },
  {
   "cell_type": "markdown",
   "metadata": {},
   "source": [
    "### Research Question 1: \n",
    "How does gender affect number of appointments missed?"
   ]
  },
  {
   "cell_type": "code",
   "execution_count": 334,
   "metadata": {
    "scrolled": true
   },
   "outputs": [
    {
     "name": "stdout",
     "output_type": "stream",
     "text": [
      "Number of Males:  14113\n",
      "Number of Females:  26643\n"
     ]
    }
   ],
   "source": [
    "# Count of males and Females\n",
    "males_count = len(df[df['Gender'] == 'M'])\n",
    "females_count = len(df[df['Gender'] == 'F'])\n",
    "print('Number of Males: ', males_count)\n",
    "print('Number of Females: ', females_count)"
   ]
  },
  {
   "cell_type": "code",
   "execution_count": 335,
   "metadata": {},
   "outputs": [
    {
     "name": "stdout",
     "output_type": "stream",
     "text": [
      "Males missed:  4048\n",
      "Females missed:  7432\n"
     ]
    }
   ],
   "source": [
    "# Appointments missed by males and females\n",
    "male_missed = len(df[(df['Gender'] == 'M') & (df['No-show'] == 1)])\n",
    "female_missed = len(df[(df['Gender'] == 'F') & (df['No-show'] == 1)])\n",
    "print('Males missed: ', male_missed)\n",
    "print('Females missed: ', female_missed)"
   ]
  },
  {
   "cell_type": "code",
   "execution_count": 336,
   "metadata": {},
   "outputs": [
    {
     "name": "stdout",
     "output_type": "stream",
     "text": [
      "Proportion of males that missed appointments:  0.29\n",
      "Proportion of females that missed appointments:  0.28\n"
     ]
    }
   ],
   "source": [
    "# Proportions\n",
    "prop_male = round(male_missed/males_count, 2)\n",
    "prop_female = round(female_missed/females_count, 2)\n",
    "print('Proportion of males that missed appointments: ', prop_male)\n",
    "print('Proportion of females that missed appointments: ', prop_female)"
   ]
  },
  {
   "cell_type": "code",
   "execution_count": 337,
   "metadata": {},
   "outputs": [
    {
     "data": {
      "image/png": "[encoded data removed]",
      "text/plain": [
       "<Figure size 432x288 with 1 Axes>"
      ]
     },
     "metadata": {},
     "output_type": "display_data"
    }
   ],
   "source": [
    "# Plot proportions of males and females missed\n",
    "plot_title = 'Proportions of Males and Females that missed appointments'\n",
    "x = 'Gender'\n",
    "y = 'Proportions'\n",
    "gender_props = plot_bar([prop_male,prop_female],['Male','Female'], plot_title, x, y)"
   ]
  },
  {
   "cell_type": "markdown",
   "metadata": {},
   "source": [
    "### Research Question 2: \n",
    "Do patients who receive the Bolsa Família Scholarship tend to show up to more or less appointments than patients who do not?"
   ]
  },
  {
   "cell_type": "code",
   "execution_count": 338,
   "metadata": {},
   "outputs": [
    {
     "name": "stdout",
     "output_type": "stream",
     "text": [
      "Number of Scholarship Recipients:  3576\n",
      "Number of Non-Scholarship Recipients:  37180\n"
     ]
    }
   ],
   "source": [
    "# Count of Scholarship and non-scholarship recipients\n",
    "schol_count = len(df[df['Scholarship'] == 1])\n",
    "non_schol_count = len(df[df['Scholarship'] == 0])\n",
    "print('Number of Scholarship Recipients: ', schol_count)\n",
    "print('Number of Non-Scholarship Recipients: ', non_schol_count)"
   ]
  },
  {
   "cell_type": "code",
   "execution_count": 339,
   "metadata": {},
   "outputs": [
    {
     "name": "stdout",
     "output_type": "stream",
     "text": [
      "Scholarship Recipients Missed:  1232\n",
      "No scholarship Missed:  10248\n"
     ]
    }
   ],
   "source": [
    "# Appointments missed by scholarship recipients and non-scholarship\n",
    "schol_missed = len(df[(df['Scholarship'] == 1) & (df['No-show'] == 1)])\n",
    "no_schol_missed = len(df[(df['Scholarship'] == 0) & (df['No-show'] == 1)])\n",
    "print('Scholarship Recipients Missed: ', schol_missed)\n",
    "print('No scholarship Missed: ', no_schol_missed)"
   ]
  },
  {
   "cell_type": "code",
   "execution_count": 340,
   "metadata": {},
   "outputs": [
    {
     "name": "stdout",
     "output_type": "stream",
     "text": [
      "Proportion of scholarship recipients that missed appointments:  0.34\n",
      "Proportion of people with no scholarships that missed appointments:  0.28\n"
     ]
    }
   ],
   "source": [
    "# Proportions\n",
    "prop_schol = round(schol_missed/schol_count, 2)\n",
    "prop_no_schol = round(no_schol_missed/non_schol_count, 2)\n",
    "print('Proportion of scholarship recipients that missed appointments: ', prop_schol)\n",
    "print('Proportion of people with no scholarships that missed appointments: ', prop_no_schol)"
   ]
  },
  {
   "cell_type": "code",
   "execution_count": 367,
   "metadata": {},
   "outputs": [
    {
     "data": {
      "image/png": "[encoded data removed]",
      "text/plain": [
       "<Figure size 432x288 with 1 Axes>"
      ]
     },
     "metadata": {},
     "output_type": "display_data"
    }
   ],
   "source": [
    "# Plot of proportions\n",
    "plot_title = 'Proportions of missed appointments based on Scholarship'\n",
    "x = 'Scholarship'\n",
    "y = 'Proportions'\n",
    "schol_props = plot_bar([prop_schol,prop_no_schol],['Scholarship Received','No Scholarship Received'], plot_title, x, y)\n"
   ]
  },
  {
   "cell_type": "markdown",
   "metadata": {},
   "source": [
    "### Research Question 3: \n",
    "How do Hypertension patients tend to respond to medical appointments?"
   ]
  },
  {
   "cell_type": "code",
   "execution_count": 342,
   "metadata": {},
   "outputs": [
    {
     "name": "stdout",
     "output_type": "stream",
     "text": [
      "Number of Hypertension Patients:  8509\n",
      "Number of Non-Hypertension Patients:  32247\n"
     ]
    }
   ],
   "source": [
    "# Count of Hypertension and non-hypertension patients\n",
    "hyp_count = len(df[df['Hypertension'] == 1])\n",
    "non_hyp_count = len(df[df['Hypertension'] == 0])\n",
    "print('Number of Hypertension Patients: ', hyp_count)\n",
    "print('Number of Non-Hypertension Patients: ', non_hyp_count)"
   ]
  },
  {
   "cell_type": "code",
   "execution_count": 343,
   "metadata": {},
   "outputs": [
    {
     "name": "stdout",
     "output_type": "stream",
     "text": [
      "Hypertension patients Missed:  1903\n",
      "Non-Hypertension patients Missed:  9577\n"
     ]
    }
   ],
   "source": [
    "# Appointments missed by Hypertension and non-hypertension patieents\n",
    "hyp_missed = len(df[(df['Hypertension'] == 1) & (df['No-show'] == 1)])\n",
    "non_hyp_missed = len(df[(df['Hypertension'] == 0) & (df['No-show'] == 1)])\n",
    "print('Hypertension patients Missed: ', hyp_missed)\n",
    "print('Non-Hypertension patients Missed: ', non_hyp_missed)"
   ]
  },
  {
   "cell_type": "code",
   "execution_count": 344,
   "metadata": {},
   "outputs": [
    {
     "name": "stdout",
     "output_type": "stream",
     "text": [
      "Proportion of Hypertension patients that missed appointments:  0.22\n",
      "Proportion of Non-Hypertension patients that missed appointments:  0.3\n"
     ]
    }
   ],
   "source": [
    "# Proportions\n",
    "prop_hyp = round(hyp_missed/hyp_count, 2)\n",
    "prop_no_hyp = round(non_hyp_missed/non_hyp_count, 2)\n",
    "print('Proportion of Hypertension patients that missed appointments: ', prop_hyp)\n",
    "print('Proportion of Non-Hypertension patients that missed appointments: ', prop_no_hyp)"
   ]
  },
  {
   "cell_type": "code",
   "execution_count": 345,
   "metadata": {},
   "outputs": [
    {
     "data": {
      "image/png": "[encoded data removed]",
      "text/plain": [
       "<Figure size 432x288 with 1 Axes>"
      ]
     },
     "metadata": {},
     "output_type": "display_data"
    }
   ],
   "source": [
    "# Plot of proportions\n",
    "plot_title = 'Proportions of missed appointments based on Hypertension'\n",
    "x = 'Hypertension'\n",
    "y = 'Proportions'\n",
    "alcohol_props = plot_bar([prop_hyp,prop_no_hyp],['Hypertension','No Hypertension'], plot_title, x, y)"
   ]
  },
  {
   "cell_type": "markdown",
   "metadata": {},
   "source": [
    "### Research Question 4: \n",
    "Do patients who have one or more SMS messages sent to them tend to show up to more or less appointments than patients who do not?"
   ]
  },
  {
   "cell_type": "code",
   "execution_count": 346,
   "metadata": {},
   "outputs": [
    {
     "name": "stdout",
     "output_type": "stream",
     "text": [
      "Number of patients who received SMS:  20394\n",
      "Number of patients who did not receive SMS:  20362\n"
     ]
    }
   ],
   "source": [
    "# Count of SMS Received and No SMS Received\n",
    "sms_count = len(df[df['SMS_received'] == 1])\n",
    "no_sms_count = len(df[df['SMS_received'] == 0])\n",
    "print('Number of patients who received SMS: ', sms_count)\n",
    "print('Number of patients who did not receive SMS: ', no_sms_count)"
   ]
  },
  {
   "cell_type": "code",
   "execution_count": 347,
   "metadata": {},
   "outputs": [
    {
     "name": "stdout",
     "output_type": "stream",
     "text": [
      "SMS Recipients Missed:  5491\n",
      "No SMS received Missed:  5989\n"
     ]
    }
   ],
   "source": [
    "# Appointments missed by sms recipients and no sms \n",
    "sms_missed = len(df[(df['SMS_received'] == 1) & (df['No-show'] == 1)])\n",
    "no_sms_missed = len(df[(df['SMS_received'] == 0) & (df['No-show'] == 1)])\n",
    "print('SMS Recipients Missed: ', sms_missed)\n",
    "print('No SMS received Missed: ', no_sms_missed)"
   ]
  },
  {
   "cell_type": "code",
   "execution_count": 348,
   "metadata": {},
   "outputs": [
    {
     "name": "stdout",
     "output_type": "stream",
     "text": [
      "Proportion of SMS Recipients that missed appointments:  0.27\n",
      "Proportion of patients with No SMS received that missed appointments:  0.29\n"
     ]
    }
   ],
   "source": [
    "# Proportions\n",
    "prop_sms = round(sms_missed/sms_count, 2)\n",
    "prop_no_sms = round(no_sms_missed/no_sms_count, 2)\n",
    "print('Proportion of SMS Recipients that missed appointments: ', prop_sms)\n",
    "print('Proportion of patients with No SMS received that missed appointments: ', prop_no_sms)"
   ]
  },
  {
   "cell_type": "code",
   "execution_count": 349,
   "metadata": {},
   "outputs": [
    {
     "data": {
      "image/png": "[encoded data removed]",
      "text/plain": [
       "<Figure size 432x288 with 1 Axes>"
      ]
     },
     "metadata": {},
     "output_type": "display_data"
    }
   ],
   "source": [
    "# Plot of proportions\n",
    "plot_title = 'Proportions of missed appointments based on SMS Messages'\n",
    "x = 'SMS Messages'\n",
    "y = 'Proportions'\n",
    "alcohol_props = plot_bar([prop_sms,prop_no_sms],['SMS Received','No SMS Received'], plot_title, x, y)"
   ]
  },
  {
   "cell_type": "markdown",
   "metadata": {},
   "source": [
    "### Research Question 5:\n",
    "How does Scholarship affect male and female missed appointment rates?"
   ]
  },
  {
   "cell_type": "code",
   "execution_count": 350,
   "metadata": {},
   "outputs": [
    {
     "name": "stdout",
     "output_type": "stream",
     "text": [
      "Males with Scholarship:  643\n",
      "Females with Scholarship:  2933\n"
     ]
    }
   ],
   "source": [
    "# Males and Females with Scholarship\n",
    "males_scholarship = len(df[(df['Gender'] == 'M') & (df['Scholarship'] == 1)])\n",
    "females_scholarship = len(df[(df['Gender'] == 'F') & (df['Scholarship'] == 1)])\n",
    "print('Males with Scholarship: ', males_scholarship)\n",
    "print('Females with Scholarship: ', females_scholarship)"
   ]
  },
  {
   "cell_type": "code",
   "execution_count": 351,
   "metadata": {},
   "outputs": [
    {
     "name": "stdout",
     "output_type": "stream",
     "text": [
      "Males with Scholarship who missed appointments:  221\n",
      "Females with Scholarship who missed appointments:  1011\n"
     ]
    }
   ],
   "source": [
    "# Males and Females with Scholarship and missed appointments\n",
    "males_schol_missed = len(df[(df['Gender'] == 'M') & (df['Scholarship'] == 1) & (df['No-show'] == 1)])\n",
    "females_schol_missed = len(df[(df['Gender'] == 'F') & (df['Scholarship'] == 1) & (df['No-show'] == 1)])\n",
    "print('Males with Scholarship who missed appointments: ', males_schol_missed)\n",
    "print('Females with Scholarship who missed appointments: ', females_schol_missed)"
   ]
  },
  {
   "cell_type": "code",
   "execution_count": 352,
   "metadata": {},
   "outputs": [
    {
     "name": "stdout",
     "output_type": "stream",
     "text": [
      "Males without Scholarship:  13470\n",
      "Females without Scholarship:  23710\n"
     ]
    }
   ],
   "source": [
    "# Males and Females without Scholarship \n",
    "males_no_scholarship = len(df[(df['Gender'] == 'M') & (df['Scholarship'] == 0)])\n",
    "females_no_scholarship = len(df[(df['Gender'] == 'F') & (df['Scholarship'] == 0)])\n",
    "print('Males without Scholarship: ', males_no_scholarship)\n",
    "print('Females without Scholarship: ', females_no_scholarship)"
   ]
  },
  {
   "cell_type": "code",
   "execution_count": 353,
   "metadata": {},
   "outputs": [
    {
     "name": "stdout",
     "output_type": "stream",
     "text": [
      "Males without Scholarship who missed appointments:  3827\n",
      "Females without Scholarship who missed appointments:  6421\n"
     ]
    }
   ],
   "source": [
    "# Males and Females without Scholarship and missed appointments\n",
    "males_no_schol_missed = len(df[(df['Gender'] == 'M') & (df['Scholarship'] == 0) & (df['No-show'] == 1)])\n",
    "females_no_schol_missed = len(df[(df['Gender'] == 'F') & (df['Scholarship'] == 0) & (df['No-show'] == 1)])\n",
    "print('Males without Scholarship who missed appointments: ', males_no_schol_missed)\n",
    "print('Females without Scholarship who missed appointments: ', females_no_schol_missed)"
   ]
  },
  {
   "cell_type": "code",
   "execution_count": 354,
   "metadata": {},
   "outputs": [
    {
     "name": "stdout",
     "output_type": "stream",
     "text": [
      "Proportion of Males without Scholarship who missed appointments:  0.27\n",
      "Proportion of Females without Scholarship who missed appointments:  0.24\n"
     ]
    }
   ],
   "source": [
    "# Proportions of males and females without scholarships who missed appointments\n",
    "prop_male_no_schol_missed = round(males_no_schol_missed/males_count, 2)\n",
    "prop_female_no_schol_missed = round(females_no_schol_missed/females_count, 2)\n",
    "print('Proportion of Males without Scholarship who missed appointments: ', prop_male_no_schol_missed)\n",
    "print('Proportion of Females without Scholarship who missed appointments: ', prop_female_no_schol_missed)"
   ]
  },
  {
   "cell_type": "code",
   "execution_count": 355,
   "metadata": {},
   "outputs": [
    {
     "name": "stdout",
     "output_type": "stream",
     "text": [
      "Proportion of Males with Scholarship who missed appointments:  0.02\n",
      "Proportion of Females with Scholarship who missed appointments:  0.04\n"
     ]
    }
   ],
   "source": [
    "# Proportions of males and females with scholarship who missed appointments\n",
    "prop_male_schol_missed = round(males_schol_missed/males_count, 2)\n",
    "prop_female_schol_missed = round(females_schol_missed/females_count, 2)\n",
    "print('Proportion of Males with Scholarship who missed appointments: ', prop_male_schol_missed)\n",
    "print('Proportion of Females with Scholarship who missed appointments: ', prop_female_schol_missed)"
   ]
  },
  {
   "cell_type": "code",
   "execution_count": 356,
   "metadata": {},
   "outputs": [
    {
     "data": {
      "image/png": "[encoded data removed]",
      "text/plain": [
       "<Figure size 432x288 with 1 Axes>"
      ]
     },
     "metadata": {},
     "output_type": "display_data"
    }
   ],
   "source": [
    "# Plot proportions\n",
    "sns.set_style(\"darkgrid\")\n",
    "ind = np.array([1, 2])\n",
    "width = 0.2\n",
    "male_proportions = [prop_male_schol_missed, prop_male_no_schol_missed]\n",
    "female_proportions = [prop_female_schol_missed, prop_female_no_schol_missed]\n",
    "male_bars = plt.bar(ind, male_proportions, width, color='b', alpha=.7, label='Males')\n",
    "female_bars = plt.bar(ind + width, female_proportions, width, color='r', alpha=.7, label='Females')\n",
    "\n",
    "# title and labels\n",
    "plt.ylabel('Proportions')\n",
    "plt.xlabel('Missed Appointments')\n",
    "plt.title('Missed Appointments by Gender Based on Scholarship')\n",
    "locations = ind + width/2 # xtick locations\n",
    "labels = ['Scholarship Received', 'No Scholarship Received']  # xtick labels\n",
    "plt.xticks(locations, labels)\n",
    "\n",
    "# legend\n",
    "plt.legend();"
   ]
  },
  {
   "cell_type": "markdown",
   "metadata": {},
   "source": [
    "### Research Question 6:\n",
    "How do SMS reminders affect the missed appointment rates of Hypertension patients?"
   ]
  },
  {
   "cell_type": "code",
   "execution_count": 357,
   "metadata": {},
   "outputs": [
    {
     "name": "stdout",
     "output_type": "stream",
     "text": [
      "Hypertension Patients who received SMS:  3924\n",
      "Non-Hypertension Patients who received SMS:  16470\n"
     ]
    }
   ],
   "source": [
    "# Hypertension Patients and non-Hypertension patients who received SMS Messages\n",
    "hyp_sms = len(df[(df['Hypertension'] == 1) & (df['SMS_received'] == 1)])\n",
    "non_hyp_sms = len(df[(df['Hypertension'] == 0) & (df['SMS_received'] == 1)])\n",
    "print('Hypertension Patients who received SMS: ', hyp_sms)\n",
    "print('Non-Hypertension Patients who received SMS: ', non_hyp_sms)"
   ]
  },
  {
   "cell_type": "code",
   "execution_count": 358,
   "metadata": {},
   "outputs": [
    {
     "name": "stdout",
     "output_type": "stream",
     "text": [
      "Hypertension Patients who received SMS but missed appointments:  790\n",
      "Non-Hypertension Patients who received SMS but missed appointments:  4701\n"
     ]
    }
   ],
   "source": [
    "# Hypertension Patients and non-Hypertension patients who received SMS but missed appointments\n",
    "hyp_sms_missed = len(df[(df['Hypertension'] == 1) & (df['SMS_received'] == 1) & (df['No-show'] == 1)])\n",
    "non_hyp_sms_missed = len(df[(df['Hypertension'] == 0) & (df['SMS_received'] == 1) & (df['No-show'] == 1)])\n",
    "print('Hypertension Patients who received SMS but missed appointments: ', hyp_sms_missed)\n",
    "print('Non-Hypertension Patients who received SMS but missed appointments: ', non_hyp_sms_missed)"
   ]
  },
  {
   "cell_type": "code",
   "execution_count": 362,
   "metadata": {},
   "outputs": [
    {
     "name": "stdout",
     "output_type": "stream",
     "text": [
      "Hypertension Patients who did not receive SMS and missed appointments:  1113\n",
      "Non-Hypertension Patients who did not receive SMS and missed appointments:  4876\n"
     ]
    }
   ],
   "source": [
    "# Hypertension Patients and non-Hypertension patients who did not receive SMS and missed appointments\n",
    "hyp_missed_no_sms = len(df[(df['Hypertension'] == 1) & (df['SMS_received'] == 0) & (df['No-show'] == 1)])\n",
    "non_hyp_missed_no_sms = len(df[(df['Hypertension'] == 0) & (df['SMS_received'] == 0) & (df['No-show'] == 1)])\n",
    "print('Hypertension Patients who did not receive SMS and missed appointments: ', hyp_missed_no_sms)\n",
    "print('Non-Hypertension Patients who did not receive SMS and missed appointments: ', non_hyp_missed_no_sms)"
   ]
  },
  {
   "cell_type": "code",
   "execution_count": 363,
   "metadata": {},
   "outputs": [
    {
     "name": "stdout",
     "output_type": "stream",
     "text": [
      "Proportion of Hypertension Patients who did not receive SMS and missed appointments:  0.13\n",
      "Proportion of Non-Hypertension Patients who did not receive SMS and missed appointments:  0.15\n"
     ]
    }
   ],
   "source": [
    "# Proportions of Hypertension and non-Hypertension Patients who did not receive SMS and missed appointments\n",
    "prop_hyp_missed_no_sms = round(hyp_missed_no_sms/hyp_count, 2)\n",
    "prop_non_hyp_missed_no_sms = round(non_hyp_missed_no_sms/non_hyp_count, 2)\n",
    "print('Proportion of Hypertension Patients who did not receive SMS and missed appointments: ', prop_hyp_missed_no_sms)\n",
    "print('Proportion of Non-Hypertension Patients who did not receive SMS and missed appointments: ', prop_non_hyp_missed_no_sms)\n"
   ]
  },
  {
   "cell_type": "code",
   "execution_count": 364,
   "metadata": {},
   "outputs": [
    {
     "name": "stdout",
     "output_type": "stream",
     "text": [
      "Proportion of Hypertension Patients who received SMS but missed appointments:  0.09\n",
      "Proportion of Non-Hypertension Patients who received SMS but missed appointments:  0.15\n"
     ]
    }
   ],
   "source": [
    "# Proportions of Hypertension and non-Hypertension Patients who received SMS but missed appointments\n",
    "prop_hyp_missed_sms = round(hyp_sms_missed/hyp_count, 2)\n",
    "prop_non_hyp_missed_sms = round(non_hyp_sms_missed/non_hyp_count, 2)\n",
    "print('Proportion of Hypertension Patients who received SMS but missed appointments: ', prop_hyp_missed_sms)\n",
    "print('Proportion of Non-Hypertension Patients who received SMS but missed appointments: ', prop_non_hyp_missed_sms)"
   ]
  },
  {
   "cell_type": "code",
   "execution_count": 365,
   "metadata": {},
   "outputs": [
    {
     "data": {
      "image/png": "[encoded data removed]",
      "text/plain": [
       "<Figure size 432x288 with 1 Axes>"
      ]
     },
     "metadata": {},
     "output_type": "display_data"
    }
   ],
   "source": [
    "# plot bars\n",
    "ind = np.array([1, 2])\n",
    "width = 0.2\n",
    "hyp_proportions = [prop_hyp_missed_sms, prop_hyp_missed_no_sms]\n",
    "non_hyp_proportions = [prop_non_hyp_missed_sms, prop_non_hyp_missed_no_sms]\n",
    "hyp_bars = plt.bar(ind, hyp_proportions, width, color='b', alpha=.7, label='Hypertension')\n",
    "non_hyp_bars = plt.bar(ind + width, non_hyp_proportions, width, color='r', alpha=.7, label='No Hypertension')\n",
    "\n",
    "# title and labels\n",
    "plt.ylabel('Proportion')\n",
    "plt.xlabel('Missed appointments')\n",
    "plt.title('Missed Appointments by Hypertension patients based on SMS Reminders')\n",
    "locations = ind + width/2 # xtick locations\n",
    "labels = ['SMS', 'No SMS']  # xtick labels\n",
    "plt.xticks(locations, labels)\n",
    "\n",
    "# legend\n",
    "plt.legend();"
   ]
  },
  {
   "cell_type": "markdown",
   "metadata": {},
   "source": [
    "<a id='conclusions'></a>\n",
    "## Conclusions\n",
    "\n",
    "\n",
    "Six questions where asked and addressed in this project with four independent variables and one dependent variable examined.\n",
    "\n",
    "We see from the dataset that more males tended to miss appointments than females, though the reverse is the case for the males and females who received the Bolsa Família Scholarship. We also see that there was a higher proportion of both males and females missing appointments when they did not receive the Scholarship. However, when Scholarship is isolated, we see something interesting. On average, Scholarship recipients missed more appointments than those who did not receive scholarships. Given the purpose of the scholarship, this is unexpected. However, it is important to make it clear that this analysis is by no means absolute, and further statistical tests will be required to prove this.\n",
    "\n",
    "From the dataset, we see that non-hypertension patients missed more appointments than hypertension patients. We see the same trend when SMS reminders are sent. However, on average, the SMS reminders did not seem to affect the non-hypertension patients' missed appointment rate as it stayed the same. We do see that on average, less patients with hypertension missed appointments when SMS reminders were sent. Isolating SMS reminders, we see the same trend.\n",
    "\n",
    "It is important to reiterate that this exploratory data analysis doesn't give the full picture, hence the term \"exploratory\". All that was done here was examining trends seen between different variables. Therefore, we cannot state with any certainty that because we observed some trends here, they would be similar in other datasets. To make such predictions with some level of certainty, more complex statistical analysis such as Hypothesis testing and regression (amongst others) would need to be carried out."
   ]
  }
 ],
 "metadata": {
  "kernelspec": {
   "display_name": "Python 3",
   "language": "python",
   "name": "python3"
  },
  "language_info": {
   "codemirror_mode": {
    "name": "ipython",
    "version": 3
   },
   "file_extension": ".py",
   "mimetype": "text/x-python",
   "name": "python",
   "nbconvert_exporter": "python",
   "pygments_lexer": "ipython3",
   "version": "3.6.10"
  }
 },
 "nbformat": 4,
 "nbformat_minor": 2
}
